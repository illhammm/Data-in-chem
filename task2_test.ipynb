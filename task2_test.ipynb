{
  "nbformat": 4,
  "nbformat_minor": 0,
  "metadata": {
    "colab": {
      "provenance": []
    },
    "kernelspec": {
      "name": "python3",
      "display_name": "Python 3"
    },
    "language_info": {
      "name": "python"
    }
  },
  "cells": [
    {
      "cell_type": "markdown",
      "source": [
        "# For dataset **qm9_new.csv** get 1000+ descriptors from 2+ sources: RDKit, Pubchem, Mordred, etc."
      ],
      "metadata": {
        "id": "KLiVardbEOKr"
      }
    },
    {
      "cell_type": "code",
      "source": [
        "pip install pandas rdkit pubchempy mordred"
      ],
      "metadata": {
        "colab": {
          "base_uri": "https://localhost:8080/"
        },
        "id": "JfWSOjATSvSn",
        "outputId": "57ed85ce-e813-4712-fcd4-c6ae10aff497"
      },
      "execution_count": 1,
      "outputs": [
        {
          "output_type": "stream",
          "name": "stdout",
          "text": [
            "Requirement already satisfied: pandas in /usr/local/lib/python3.10/dist-packages (2.0.3)\n",
            "Requirement already satisfied: rdkit in /usr/local/lib/python3.10/dist-packages (2023.9.5)\n",
            "Requirement already satisfied: pubchempy in /usr/local/lib/python3.10/dist-packages (1.0.4)\n",
            "Requirement already satisfied: mordred in /usr/local/lib/python3.10/dist-packages (1.2.0)\n",
            "Requirement already satisfied: python-dateutil>=2.8.2 in /usr/local/lib/python3.10/dist-packages (from pandas) (2.8.2)\n",
            "Requirement already satisfied: pytz>=2020.1 in /usr/local/lib/python3.10/dist-packages (from pandas) (2023.4)\n",
            "Requirement already satisfied: tzdata>=2022.1 in /usr/local/lib/python3.10/dist-packages (from pandas) (2024.1)\n",
            "Requirement already satisfied: numpy>=1.21.0 in /usr/local/lib/python3.10/dist-packages (from pandas) (1.25.2)\n",
            "Requirement already satisfied: Pillow in /usr/local/lib/python3.10/dist-packages (from rdkit) (9.4.0)\n",
            "Requirement already satisfied: six==1.* in /usr/local/lib/python3.10/dist-packages (from mordred) (1.16.0)\n",
            "Requirement already satisfied: networkx==2.* in /usr/local/lib/python3.10/dist-packages (from mordred) (2.8.8)\n"
          ]
        }
      ]
    },
    {
      "cell_type": "code",
      "execution_count": 2,
      "metadata": {
        "id": "lfkI1rZJSBWq"
      },
      "outputs": [],
      "source": [
        "import pandas as pd\n",
        "from rdkit import Chem\n",
        "from rdkit.Chem import Descriptors\n",
        "from mordred import Calculator, descriptors\n",
        "import pubchempy as pcp\n",
        "from sklearn.feature_selection import VarianceThreshold"
      ]
    },
    {
      "cell_type": "code",
      "source": [
        "# Функция для загрузки дескрипторов из PubChem\n",
        "def get_pubchem_descriptors(smiles):\n",
        "    try:\n",
        "        compound = pcp.get_compounds(smiles, 'smiles')\n",
        "        cid = compound[0].cid\n",
        "        properties = pcp.get_properties('property', cid)\n",
        "        descriptors = {prop['Name']: prop['Value'] for prop in properties[0]}\n",
        "        return descriptors\n",
        "    except Exception as e:\n",
        "        print(f\"Error fetching descriptors for SMILES {smiles}: {e}\")\n",
        "        return None"
      ],
      "metadata": {
        "id": "Qts7RG-Xbo6k"
      },
      "execution_count": 3,
      "outputs": []
    },
    {
      "cell_type": "code",
      "source": [
        "# Функция для вычисления дескрипторов с помощью Mordred\n",
        "def calculate_mordred_descriptors(smiles):\n",
        "    try:\n",
        "        molecule = Chem.MolFromSmiles(smiles)\n",
        "        if molecule is None:\n",
        "            return None\n",
        "        calc = Calculator(descriptors)\n",
        "        descriptors = calc(molecule)\n",
        "        return descriptors.asdict()\n",
        "    except Exception as e:\n",
        "        print(f\"Error calculating Mordred descriptors for SMILES {smiles}: {e}\")\n",
        "        return None"
      ],
      "metadata": {
        "id": "qmFL3CDBbrhk"
      },
      "execution_count": 11,
      "outputs": []
    },
    {
      "cell_type": "code",
      "source": [
        "df = pd.read_csv(\"qm9_new.csv\")"
      ],
      "metadata": {
        "id": "M5ZyYd2WSlKf"
      },
      "execution_count": 12,
      "outputs": []
    },
    {
      "cell_type": "code",
      "source": [
        "# Выборка подмножества данных для тестирования (можно удалить в финальной версии)\n",
        "df = df.head(100)\n"
      ],
      "metadata": {
        "id": "cF7vjrs8buvM"
      },
      "execution_count": 13,
      "outputs": []
    },
    {
      "cell_type": "code",
      "source": [
        "df.info()"
      ],
      "metadata": {
        "colab": {
          "base_uri": "https://localhost:8080/"
        },
        "id": "ICb-T63MEkSS",
        "outputId": "b779797b-c27f-470a-e562-7dceb8b10e3b"
      },
      "execution_count": 14,
      "outputs": [
        {
          "output_type": "stream",
          "name": "stdout",
          "text": [
            "<class 'pandas.core.frame.DataFrame'>\n",
            "RangeIndex: 100 entries, 0 to 99\n",
            "Data columns (total 17 columns):\n",
            " #   Column  Non-Null Count  Dtype  \n",
            "---  ------  --------------  -----  \n",
            " 0   mol_id  100 non-null    object \n",
            " 1   smiles  100 non-null    object \n",
            " 2   A       100 non-null    float64\n",
            " 3   B       100 non-null    float64\n",
            " 4   C       100 non-null    float64\n",
            " 5   mu      100 non-null    float64\n",
            " 6   alpha   100 non-null    float64\n",
            " 7   homo    100 non-null    float64\n",
            " 8   lumo    100 non-null    float64\n",
            " 9   gap     100 non-null    float64\n",
            " 10  r2      100 non-null    float64\n",
            " 11  zpve    100 non-null    float64\n",
            " 12  u0      100 non-null    float64\n",
            " 13  u298    100 non-null    float64\n",
            " 14  h298    100 non-null    float64\n",
            " 15  g298    100 non-null    float64\n",
            " 16  cv      100 non-null    float64\n",
            "dtypes: float64(15), object(2)\n",
            "memory usage: 13.4+ KB\n"
          ]
        }
      ]
    },
    {
      "cell_type": "code",
      "source": [
        "gap_counts = df['gap'].value_counts(normalize=False)\n",
        "print(gap_counts)"
      ],
      "metadata": {
        "colab": {
          "base_uri": "https://localhost:8080/"
        },
        "id": "eUgqYmuVPxZc",
        "outputId": "4c78c3fd-551b-43ee-a139-8619d4814dbf"
      },
      "execution_count": 15,
      "outputs": [
        {
          "output_type": "stream",
          "name": "stdout",
          "text": [
            "gap\n",
            "0.2097    3\n",
            "0.2046    2\n",
            "0.2161    2\n",
            "0.2608    2\n",
            "0.2155    2\n",
            "         ..\n",
            "0.1847    1\n",
            "0.2638    1\n",
            "0.3104    1\n",
            "0.2522    1\n",
            "0.2479    1\n",
            "Name: count, Length: 94, dtype: int64\n"
          ]
        }
      ]
    },
    {
      "cell_type": "code",
      "source": [
        "# Выделение таргет параметра \"gap\"\n",
        "target_gap = df['gap']\n",
        "df.drop(columns=['gap'], inplace=True)"
      ],
      "metadata": {
        "id": "AgZ2sx0Bb28C"
      },
      "execution_count": 16,
      "outputs": []
    },
    {
      "cell_type": "code",
      "source": [
        "# Вычисление дескрипторов с помощью Mordred\n",
        "df['mordred_descriptors'] = df['smiles'].apply(calculate_mordred_descriptors)\n"
      ],
      "metadata": {
        "colab": {
          "base_uri": "https://localhost:8080/"
        },
        "id": "VBm4pRpsb5MS",
        "outputId": "a4c45c9f-1689-4193-a076-c173cedc1feb"
      },
      "execution_count": 17,
      "outputs": [
        {
          "output_type": "stream",
          "name": "stdout",
          "text": [
            "Error calculating Mordred descriptors for SMILES OC1C2OC(=N)C12C#C: local variable 'descriptors' referenced before assignment\n",
            "Error calculating Mordred descriptors for SMILES C1C2OC3C4C=CC13C24: local variable 'descriptors' referenced before assignment\n",
            "Error calculating Mordred descriptors for SMILES COC(=N)N1C=NN=C1: local variable 'descriptors' referenced before assignment\n",
            "Error calculating Mordred descriptors for SMILES O=C1CC(CN1)N1CC1: local variable 'descriptors' referenced before assignment\n",
            "Error calculating Mordred descriptors for SMILES CC1OC2COCC2O1: local variable 'descriptors' referenced before assignment\n",
            "Error calculating Mordred descriptors for SMILES COCC(=O)C(=O)OC: local variable 'descriptors' referenced before assignment\n",
            "Error calculating Mordred descriptors for SMILES C1C=CCC(=O)CC1=O: local variable 'descriptors' referenced before assignment\n",
            "Error calculating Mordred descriptors for SMILES NC1=CC(=O)C(CO)C1: local variable 'descriptors' referenced before assignment\n",
            "Error calculating Mordred descriptors for SMILES CC1N=COCCC1O: local variable 'descriptors' referenced before assignment\n",
            "Error calculating Mordred descriptors for SMILES CCC1OC1(C)C1CC1: local variable 'descriptors' referenced before assignment\n",
            "Error calculating Mordred descriptors for SMILES CN1C2C3CC1C(=O)C23: local variable 'descriptors' referenced before assignment\n",
            "Error calculating Mordred descriptors for SMILES CC12CC3C(CC1O)C23: local variable 'descriptors' referenced before assignment\n",
            "Error calculating Mordred descriptors for SMILES N#CC1NC2C3CC1C23: local variable 'descriptors' referenced before assignment\n",
            "Error calculating Mordred descriptors for SMILES CN1C2C3OC2C13C#C: local variable 'descriptors' referenced before assignment\n",
            "Error calculating Mordred descriptors for SMILES CC(O)C(=O)NC(N)=O: local variable 'descriptors' referenced before assignment\n",
            "Error calculating Mordred descriptors for SMILES CC(O)C1=NC(N)=CN1: local variable 'descriptors' referenced before assignment\n",
            "Error calculating Mordred descriptors for SMILES OC1CCC(C1)NC=O: local variable 'descriptors' referenced before assignment\n",
            "Error calculating Mordred descriptors for SMILES Cn1cc(c(n1)O)N: local variable 'descriptors' referenced before assignment\n",
            "Error calculating Mordred descriptors for SMILES C1CC2C=CC3NC23C1: local variable 'descriptors' referenced before assignment\n",
            "Error calculating Mordred descriptors for SMILES c1c(n[nH]n1)OCCO: local variable 'descriptors' referenced before assignment\n",
            "Error calculating Mordred descriptors for SMILES COC1OCC=CC1C: local variable 'descriptors' referenced before assignment\n",
            "Error calculating Mordred descriptors for SMILES COCCCC=O: local variable 'descriptors' referenced before assignment\n",
            "Error calculating Mordred descriptors for SMILES OC1C=C(C#N)C2CC12: local variable 'descriptors' referenced before assignment\n",
            "Error calculating Mordred descriptors for SMILES C1CC1C1CC1C1CO1: local variable 'descriptors' referenced before assignment\n",
            "Error calculating Mordred descriptors for SMILES CCC12COC3C1OC23: local variable 'descriptors' referenced before assignment\n",
            "Error calculating Mordred descriptors for SMILES Cc1c([nH]cc1O)C: local variable 'descriptors' referenced before assignment\n",
            "Error calculating Mordred descriptors for SMILES CNc1cc(n(n1)C)O: local variable 'descriptors' referenced before assignment\n",
            "Error calculating Mordred descriptors for SMILES OC12CCC1C(C2)C#N: local variable 'descriptors' referenced before assignment\n",
            "Error calculating Mordred descriptors for SMILES C#CC12NC1CN1CC21: local variable 'descriptors' referenced before assignment\n",
            "Error calculating Mordred descriptors for SMILES CC1(C)CN2CC12: local variable 'descriptors' referenced before assignment\n",
            "Error calculating Mordred descriptors for SMILES CC1=CCC(=O)OC1: local variable 'descriptors' referenced before assignment\n",
            "Error calculating Mordred descriptors for SMILES c1nc(nn1C=O)N: local variable 'descriptors' referenced before assignment\n",
            "Error calculating Mordred descriptors for SMILES c1c2c(no1)NCCN2: local variable 'descriptors' referenced before assignment\n",
            "Error calculating Mordred descriptors for SMILES CCC(C)C(C)(C)CC: local variable 'descriptors' referenced before assignment\n",
            "Error calculating Mordred descriptors for SMILES c1(c(n[nH]c(=O)n1)O)O: local variable 'descriptors' referenced before assignment\n",
            "Error calculating Mordred descriptors for SMILES CC1OC(=N)C=C1: local variable 'descriptors' referenced before assignment\n",
            "Error calculating Mordred descriptors for SMILES C1CC12CN(C2)CC=O: local variable 'descriptors' referenced before assignment\n",
            "Error calculating Mordred descriptors for SMILES CC1C2CC(C)(O)C12O: local variable 'descriptors' referenced before assignment\n",
            "Error calculating Mordred descriptors for SMILES CC(C)n1ccnc1: local variable 'descriptors' referenced before assignment\n",
            "Error calculating Mordred descriptors for SMILES CC1C2CC(=CC12)C#N: local variable 'descriptors' referenced before assignment\n",
            "Error calculating Mordred descriptors for SMILES CC1NC1(C=O)C(N)=O: local variable 'descriptors' referenced before assignment\n",
            "Error calculating Mordred descriptors for SMILES O=C1NC(C#C)C2OC12: local variable 'descriptors' referenced before assignment\n",
            "Error calculating Mordred descriptors for SMILES OCC1C=CCC1C#N: local variable 'descriptors' referenced before assignment\n",
            "Error calculating Mordred descriptors for SMILES CC(=O)C12OC1C1CC21: local variable 'descriptors' referenced before assignment\n",
            "Error calculating Mordred descriptors for SMILES O=CNC(C#N)C1CN1: local variable 'descriptors' referenced before assignment\n",
            "Error calculating Mordred descriptors for SMILES O=CC12CC3C1C1C2N31: local variable 'descriptors' referenced before assignment\n",
            "Error calculating Mordred descriptors for SMILES CCC1(C#N)C(C)C1O: local variable 'descriptors' referenced before assignment\n",
            "Error calculating Mordred descriptors for SMILES CN=C1C2(CC2)OCO1: local variable 'descriptors' referenced before assignment\n",
            "Error calculating Mordred descriptors for SMILES CNC1=NC(CN1)C#N: local variable 'descriptors' referenced before assignment\n",
            "Error calculating Mordred descriptors for SMILES OCC1C2OC2C1CO: local variable 'descriptors' referenced before assignment\n",
            "Error calculating Mordred descriptors for SMILES c1cc(=O)onc1F: local variable 'descriptors' referenced before assignment\n",
            "Error calculating Mordred descriptors for SMILES CC1COC1=NCC=O: local variable 'descriptors' referenced before assignment\n",
            "Error calculating Mordred descriptors for SMILES OC1CC2OCC12C#C: local variable 'descriptors' referenced before assignment\n",
            "Error calculating Mordred descriptors for SMILES CNc1cc(no1)N: local variable 'descriptors' referenced before assignment\n",
            "Error calculating Mordred descriptors for SMILES N=C1NC(C=O)C11CO1: local variable 'descriptors' referenced before assignment\n",
            "Error calculating Mordred descriptors for SMILES C#CC12CC1OCCC2: local variable 'descriptors' referenced before assignment\n",
            "Error calculating Mordred descriptors for SMILES O=C1OCC11NC2CC12: local variable 'descriptors' referenced before assignment\n",
            "Error calculating Mordred descriptors for SMILES CC12CCN1C1CC21O: local variable 'descriptors' referenced before assignment\n",
            "Error calculating Mordred descriptors for SMILES C#CC1=CCC2OCC12: local variable 'descriptors' referenced before assignment\n",
            "Error calculating Mordred descriptors for SMILES CC1C(CCC=O)N1C: local variable 'descriptors' referenced before assignment\n",
            "Error calculating Mordred descriptors for SMILES OCC1OC1C#CC=O: local variable 'descriptors' referenced before assignment\n",
            "Error calculating Mordred descriptors for SMILES CC12CC3OCC1(O)C23: local variable 'descriptors' referenced before assignment\n",
            "Error calculating Mordred descriptors for SMILES O=C(C#C)C1C2CN1C2: local variable 'descriptors' referenced before assignment\n",
            "Error calculating Mordred descriptors for SMILES CC1CC2(CN2C)C1O: local variable 'descriptors' referenced before assignment\n",
            "Error calculating Mordred descriptors for SMILES C1CC23OC4C2OC1C34: local variable 'descriptors' referenced before assignment\n",
            "Error calculating Mordred descriptors for SMILES CC1=CC2(CO2)CC1O: local variable 'descriptors' referenced before assignment\n",
            "Error calculating Mordred descriptors for SMILES O=C1CC2OC=NC12: local variable 'descriptors' referenced before assignment\n",
            "Error calculating Mordred descriptors for SMILES Cc1coc(=O)n1C: local variable 'descriptors' referenced before assignment\n",
            "Error calculating Mordred descriptors for SMILES O=CC(=O)C1OCC=C1: local variable 'descriptors' referenced before assignment\n",
            "Error calculating Mordred descriptors for SMILES CC12CC3C4C1C2(C)N34: local variable 'descriptors' referenced before assignment\n",
            "Error calculating Mordred descriptors for SMILES CCCC(CC#N)C=O: local variable 'descriptors' referenced before assignment\n",
            "Error calculating Mordred descriptors for SMILES c1cnc(nc1)CO: local variable 'descriptors' referenced before assignment\n",
            "Error calculating Mordred descriptors for SMILES C#CC1=CCOCC1: local variable 'descriptors' referenced before assignment\n",
            "Error calculating Mordred descriptors for SMILES C1CC(=O)CNCC1=O: local variable 'descriptors' referenced before assignment\n",
            "Error calculating Mordred descriptors for SMILES CN1CC(=O)C2(CO2)C1: local variable 'descriptors' referenced before assignment\n",
            "Error calculating Mordred descriptors for SMILES c1c(cc(nc1O)O)N: local variable 'descriptors' referenced before assignment\n",
            "Error calculating Mordred descriptors for SMILES OCC1OCC=C1: local variable 'descriptors' referenced before assignment\n",
            "Error calculating Mordred descriptors for SMILES CC(C([O-])=O)C(C)(C)[NH3+]: local variable 'descriptors' referenced before assignment\n",
            "Error calculating Mordred descriptors for SMILES CC(C)(O)C1CC1CO: local variable 'descriptors' referenced before assignment\n",
            "Error calculating Mordred descriptors for SMILES CC1C=CC(C#N)C1O: local variable 'descriptors' referenced before assignment\n",
            "Error calculating Mordred descriptors for SMILES C#CC1OC11CC2CC12: local variable 'descriptors' referenced before assignment\n",
            "Error calculating Mordred descriptors for SMILES CC(C)C1(COC1)C: local variable 'descriptors' referenced before assignment\n",
            "Error calculating Mordred descriptors for SMILES CC1C2OCC3CC2C13: local variable 'descriptors' referenced before assignment\n",
            "Error calculating Mordred descriptors for SMILES CC1(COC1=N)C1CN1: local variable 'descriptors' referenced before assignment\n",
            "Error calculating Mordred descriptors for SMILES CCn1cc(c(n1)N)N: local variable 'descriptors' referenced before assignment\n",
            "Error calculating Mordred descriptors for SMILES c1c2c(n[nH]1)CN=C2N: local variable 'descriptors' referenced before assignment\n",
            "Error calculating Mordred descriptors for SMILES CC(CC#N)C(C)C#N: local variable 'descriptors' referenced before assignment\n",
            "Error calculating Mordred descriptors for SMILES C1C(CO1)OCCC=O: local variable 'descriptors' referenced before assignment\n",
            "Error calculating Mordred descriptors for SMILES O=COCC1OC1C#N: local variable 'descriptors' referenced before assignment\n",
            "Error calculating Mordred descriptors for SMILES C1CC2CCC3C1C3C2: local variable 'descriptors' referenced before assignment\n",
            "Error calculating Mordred descriptors for SMILES CCC1(OC1C=O)C=O: local variable 'descriptors' referenced before assignment\n",
            "Error calculating Mordred descriptors for SMILES CC1C(N)C(=O)N1C=O: local variable 'descriptors' referenced before assignment\n",
            "Error calculating Mordred descriptors for SMILES CCCOC=O: local variable 'descriptors' referenced before assignment\n",
            "Error calculating Mordred descriptors for SMILES OCC12OC3CC1NC23: local variable 'descriptors' referenced before assignment\n",
            "Error calculating Mordred descriptors for SMILES CC1=C2CC3C(OC1)C23: local variable 'descriptors' referenced before assignment\n",
            "Error calculating Mordred descriptors for SMILES CC1(OCCC1O)C=O: local variable 'descriptors' referenced before assignment\n",
            "Error calculating Mordred descriptors for SMILES O=CC(=O)C1CC1C#N: local variable 'descriptors' referenced before assignment\n",
            "Error calculating Mordred descriptors for SMILES OC1(CC1)C1CC2OC12: local variable 'descriptors' referenced before assignment\n",
            "Error calculating Mordred descriptors for SMILES OCC1N2CC2CC1=O: local variable 'descriptors' referenced before assignment\n",
            "Error calculating Mordred descriptors for SMILES O=C1CC23CC2(CO3)O1: local variable 'descriptors' referenced before assignment\n"
          ]
        }
      ]
    },
    {
      "cell_type": "code",
      "source": [
        "# Вычисление дескрипторов с помощью PubChem\n",
        "df['pubchem_descriptors'] = df['smiles'].apply(get_pubchem_descriptors)"
      ],
      "metadata": {
        "colab": {
          "base_uri": "https://localhost:8080/"
        },
        "id": "Rit5DNx7b9zy",
        "outputId": "90225016-63e0-4d2e-e5f5-f4d5da9229cd"
      },
      "execution_count": 18,
      "outputs": [
        {
          "output_type": "stream",
          "name": "stdout",
          "text": [
            "Error fetching descriptors for SMILES OC1C2OC(=N)C12C#C: identifier/cid cannot be None\n",
            "Error fetching descriptors for SMILES C1C2OC3C4C=CC13C24: identifier/cid cannot be None\n",
            "Error fetching descriptors for SMILES COC(=N)N1C=NN=C1: identifier/cid cannot be None\n",
            "Error fetching descriptors for SMILES O=C1CC(CN1)N1CC1: identifier/cid cannot be None\n",
            "Error fetching descriptors for SMILES CC1OC2COCC2O1: 'PUGREST.BadRequest'\n",
            "Error fetching descriptors for SMILES COCC(=O)C(=O)OC: 'PUGREST.BadRequest'\n",
            "Error fetching descriptors for SMILES C1C=CCC(=O)CC1=O: 'PUGREST.BadRequest'\n",
            "Error fetching descriptors for SMILES NC1=CC(=O)C(CO)C1: identifier/cid cannot be None\n",
            "Error fetching descriptors for SMILES CC1N=COCCC1O: identifier/cid cannot be None\n",
            "Error fetching descriptors for SMILES CCC1OC1(C)C1CC1: identifier/cid cannot be None\n",
            "Error fetching descriptors for SMILES CN1C2C3CC1C(=O)C23: identifier/cid cannot be None\n",
            "Error fetching descriptors for SMILES CC12CC3C(CC1O)C23: identifier/cid cannot be None\n",
            "Error fetching descriptors for SMILES N#CC1NC2C3CC1C23: identifier/cid cannot be None\n",
            "Error fetching descriptors for SMILES CN1C2C3OC2C13C#C: identifier/cid cannot be None\n",
            "Error fetching descriptors for SMILES CC(O)C(=O)NC(N)=O: 'PUGREST.BadRequest'\n",
            "Error fetching descriptors for SMILES CC(O)C1=NC(N)=CN1: identifier/cid cannot be None\n",
            "Error fetching descriptors for SMILES OC1CCC(C1)NC=O: 'PUGREST.BadRequest'\n",
            "Error fetching descriptors for SMILES Cn1cc(c(n1)O)N: 'PUGREST.BadRequest'\n",
            "Error fetching descriptors for SMILES C1CC2C=CC3NC23C1: identifier/cid cannot be None\n",
            "Error fetching descriptors for SMILES c1c(n[nH]n1)OCCO: 'PUGREST.BadRequest'\n",
            "Error fetching descriptors for SMILES COC1OCC=CC1C: 'PUGREST.BadRequest'\n",
            "Error fetching descriptors for SMILES COCCCC=O: 'PUGREST.BadRequest'\n",
            "Error fetching descriptors for SMILES OC1C=C(C#N)C2CC12: identifier/cid cannot be None\n",
            "Error fetching descriptors for SMILES C1CC1C1CC1C1CO1: identifier/cid cannot be None\n",
            "Error fetching descriptors for SMILES CCC12COC3C1OC23: identifier/cid cannot be None\n",
            "Error fetching descriptors for SMILES Cc1c([nH]cc1O)C: 'PUGREST.BadRequest'\n",
            "Error fetching descriptors for SMILES CNc1cc(n(n1)C)O: 'PUGREST.BadRequest'\n",
            "Error fetching descriptors for SMILES OC12CCC1C(C2)C#N: identifier/cid cannot be None\n",
            "Error fetching descriptors for SMILES C#CC12NC1CN1CC21: identifier/cid cannot be None\n",
            "Error fetching descriptors for SMILES CC1(C)CN2CC12: 'PUGREST.BadRequest'\n",
            "Error fetching descriptors for SMILES CC1=CCC(=O)OC1: 'PUGREST.BadRequest'\n",
            "Error fetching descriptors for SMILES c1nc(nn1C=O)N: 'PUGREST.BadRequest'\n",
            "Error fetching descriptors for SMILES c1c2c(no1)NCCN2: 'PUGREST.BadRequest'\n",
            "Error fetching descriptors for SMILES CCC(C)C(C)(C)CC: 'PUGREST.BadRequest'\n",
            "Error fetching descriptors for SMILES c1(c(n[nH]c(=O)n1)O)O: 'PUGREST.BadRequest'\n",
            "Error fetching descriptors for SMILES CC1OC(=N)C=C1: identifier/cid cannot be None\n",
            "Error fetching descriptors for SMILES C1CC12CN(C2)CC=O: identifier/cid cannot be None\n",
            "Error fetching descriptors for SMILES CC1C2CC(C)(O)C12O: identifier/cid cannot be None\n",
            "Error fetching descriptors for SMILES CC(C)n1ccnc1: 'PUGREST.BadRequest'\n",
            "Error fetching descriptors for SMILES CC1C2CC(=CC12)C#N: identifier/cid cannot be None\n",
            "Error fetching descriptors for SMILES CC1NC1(C=O)C(N)=O: identifier/cid cannot be None\n",
            "Error fetching descriptors for SMILES O=C1NC(C#C)C2OC12: identifier/cid cannot be None\n",
            "Error fetching descriptors for SMILES OCC1C=CCC1C#N: identifier/cid cannot be None\n",
            "Error fetching descriptors for SMILES CC(=O)C12OC1C1CC21: identifier/cid cannot be None\n",
            "Error fetching descriptors for SMILES O=CNC(C#N)C1CN1: identifier/cid cannot be None\n",
            "Error fetching descriptors for SMILES O=CC12CC3C1C1C2N31: identifier/cid cannot be None\n",
            "Error fetching descriptors for SMILES CCC1(C#N)C(C)C1O: identifier/cid cannot be None\n",
            "Error fetching descriptors for SMILES CN=C1C2(CC2)OCO1: identifier/cid cannot be None\n",
            "Error fetching descriptors for SMILES CNC1=NC(CN1)C#N: identifier/cid cannot be None\n",
            "Error fetching descriptors for SMILES OCC1C2OC2C1CO: 'PUGREST.BadRequest'\n",
            "Error fetching descriptors for SMILES c1cc(=O)onc1F: identifier/cid cannot be None\n",
            "Error fetching descriptors for SMILES CC1COC1=NCC=O: identifier/cid cannot be None\n",
            "Error fetching descriptors for SMILES OC1CC2OCC12C#C: identifier/cid cannot be None\n",
            "Error fetching descriptors for SMILES CNc1cc(no1)N: 'PUGREST.BadRequest'\n",
            "Error fetching descriptors for SMILES N=C1NC(C=O)C11CO1: identifier/cid cannot be None\n",
            "Error fetching descriptors for SMILES C#CC12CC1OCCC2: identifier/cid cannot be None\n",
            "Error fetching descriptors for SMILES O=C1OCC11NC2CC12: identifier/cid cannot be None\n",
            "Error fetching descriptors for SMILES CC12CCN1C1CC21O: identifier/cid cannot be None\n",
            "Error fetching descriptors for SMILES C#CC1=CCC2OCC12: identifier/cid cannot be None\n",
            "Error fetching descriptors for SMILES CC1C(CCC=O)N1C: identifier/cid cannot be None\n",
            "Error fetching descriptors for SMILES OCC1OC1C#CC=O: identifier/cid cannot be None\n",
            "Error fetching descriptors for SMILES CC12CC3OCC1(O)C23: identifier/cid cannot be None\n",
            "Error fetching descriptors for SMILES O=C(C#C)C1C2CN1C2: identifier/cid cannot be None\n",
            "Error fetching descriptors for SMILES CC1CC2(CN2C)C1O: identifier/cid cannot be None\n",
            "Error fetching descriptors for SMILES C1CC23OC4C2OC1C34: identifier/cid cannot be None\n",
            "Error fetching descriptors for SMILES CC1=CC2(CO2)CC1O: identifier/cid cannot be None\n",
            "Error fetching descriptors for SMILES O=C1CC2OC=NC12: identifier/cid cannot be None\n",
            "Error fetching descriptors for SMILES Cc1coc(=O)n1C: 'PUGREST.BadRequest'\n",
            "Error fetching descriptors for SMILES O=CC(=O)C1OCC=C1: identifier/cid cannot be None\n",
            "Error fetching descriptors for SMILES CC12CC3C4C1C2(C)N34: identifier/cid cannot be None\n",
            "Error fetching descriptors for SMILES CCCC(CC#N)C=O: 'PUGREST.BadRequest'\n",
            "Error fetching descriptors for SMILES c1cnc(nc1)CO: 'PUGREST.BadRequest'\n",
            "Error fetching descriptors for SMILES C#CC1=CCOCC1: 'PUGREST.BadRequest'\n",
            "Error fetching descriptors for SMILES C1CC(=O)CNCC1=O: 'PUGREST.BadRequest'\n",
            "Error fetching descriptors for SMILES CN1CC(=O)C2(CO2)C1: identifier/cid cannot be None\n",
            "Error fetching descriptors for SMILES c1c(cc(nc1O)O)N: 'PUGREST.BadRequest'\n",
            "Error fetching descriptors for SMILES OCC1OCC=C1: 'PUGREST.BadRequest'\n",
            "Error fetching descriptors for SMILES CC(C([O-])=O)C(C)(C)[NH3+]: identifier/cid cannot be None\n",
            "Error fetching descriptors for SMILES CC(C)(O)C1CC1CO: identifier/cid cannot be None\n",
            "Error fetching descriptors for SMILES CC1C=CC(C#N)C1O: identifier/cid cannot be None\n",
            "Error fetching descriptors for SMILES C#CC1OC11CC2CC12: identifier/cid cannot be None\n",
            "Error fetching descriptors for SMILES CC(C)C1(COC1)C: 'PUGREST.BadRequest'\n",
            "Error fetching descriptors for SMILES CC1C2OCC3CC2C13: identifier/cid cannot be None\n",
            "Error fetching descriptors for SMILES CC1(COC1=N)C1CN1: identifier/cid cannot be None\n",
            "Error fetching descriptors for SMILES CCn1cc(c(n1)N)N: 'PUGREST.BadRequest'\n",
            "Error fetching descriptors for SMILES c1c2c(n[nH]1)CN=C2N: identifier/cid cannot be None\n",
            "Error fetching descriptors for SMILES CC(CC#N)C(C)C#N: 'PUGREST.BadRequest'\n",
            "Error fetching descriptors for SMILES C1C(CO1)OCCC=O: 'PUGREST.BadRequest'\n",
            "Error fetching descriptors for SMILES O=COCC1OC1C#N: identifier/cid cannot be None\n",
            "Error fetching descriptors for SMILES C1CC2CCC3C1C3C2: 'PUGREST.BadRequest'\n",
            "Error fetching descriptors for SMILES CCC1(OC1C=O)C=O: identifier/cid cannot be None\n",
            "Error fetching descriptors for SMILES CC1C(N)C(=O)N1C=O: identifier/cid cannot be None\n",
            "Error fetching descriptors for SMILES CCCOC=O: 'PUGREST.BadRequest'\n",
            "Error fetching descriptors for SMILES OCC12OC3CC1NC23: identifier/cid cannot be None\n",
            "Error fetching descriptors for SMILES CC1=C2CC3C(OC1)C23: identifier/cid cannot be None\n",
            "Error fetching descriptors for SMILES CC1(OCCC1O)C=O: identifier/cid cannot be None\n",
            "Error fetching descriptors for SMILES O=CC(=O)C1CC1C#N: identifier/cid cannot be None\n",
            "Error fetching descriptors for SMILES OC1(CC1)C1CC2OC12: identifier/cid cannot be None\n",
            "Error fetching descriptors for SMILES OCC1N2CC2CC1=O: identifier/cid cannot be None\n",
            "Error fetching descriptors for SMILES O=C1CC23CC2(CO3)O1: identifier/cid cannot be None\n"
          ]
        }
      ]
    },
    {
      "cell_type": "code",
      "source": [
        "# Объединение всех дескрипторов в один DataFrame\n",
        "df_descriptors = pd.concat([df.drop(['mordred_descriptors', 'pubchem_descriptors'], axis=1),\n",
        "                            df['mordred_descriptors'].apply(pd.Series),\n",
        "                            df['pubchem_descriptors'].apply(pd.Series)], axis=1)"
      ],
      "metadata": {
        "id": "l-A_jXPWcSY0"
      },
      "execution_count": 19,
      "outputs": []
    },
    {
      "cell_type": "code",
      "source": [
        "# Добавление таргет параметра \"gap\" в DataFrame с дескрипторами\n",
        "df_descriptors['gap'] = target_gap"
      ],
      "metadata": {
        "id": "VodFDmF4cUfT"
      },
      "execution_count": 20,
      "outputs": []
    },
    {
      "cell_type": "code",
      "source": [
        "# Удаление ненужных столбцов\n",
        "df_descriptors.drop(columns=['smiles'], inplace=True)"
      ],
      "metadata": {
        "id": "8OW1XlL5eboa"
      },
      "execution_count": 21,
      "outputs": []
    },
    {
      "cell_type": "code",
      "source": [
        "# Применение метода фильтрации по дисперсии\n",
        "selector = VarianceThreshold(threshold=0.1)"
      ],
      "metadata": {
        "id": "tiN0B729ckK7"
      },
      "execution_count": 23,
      "outputs": []
    },
    {
      "cell_type": "code",
      "source": [
        "# Удаление нечисловых столбцов перед применением селектора\n",
        "numeric_df_descriptors = df_descriptors.select_dtypes(include=['number'])"
      ],
      "metadata": {
        "id": "PezUgsCEfIeS"
      },
      "execution_count": 26,
      "outputs": []
    },
    {
      "cell_type": "code",
      "source": [
        "# Применение селектора к числовому DataFrame\n",
        "selected_features = selector.fit_transform(numeric_df_descriptors.drop(columns=['gap']))"
      ],
      "metadata": {
        "id": "T5kFgGMrfK7S"
      },
      "execution_count": 27,
      "outputs": []
    },
    {
      "cell_type": "code",
      "source": [
        "# Получение имен выбранных признаков\n",
        "selected_feature_names = numeric_df_descriptors.drop(columns=['gap']).columns[selector.get_support()]\n"
      ],
      "metadata": {
        "id": "ARVirJtBfNni"
      },
      "execution_count": 28,
      "outputs": []
    },
    {
      "cell_type": "code",
      "source": [
        "# Создание DataFrame с выбранными признаками и таргетом gap\n",
        "selected_features_df = pd.DataFrame(selected_features, columns=selected_feature_names)\n",
        "selected_features_df['gap'] = target_gap\n"
      ],
      "metadata": {
        "id": "yxG2eSgrfQM6"
      },
      "execution_count": 29,
      "outputs": []
    },
    {
      "cell_type": "code",
      "source": [
        "# Сохранение датасета с выбранными признаками\n",
        "selected_features_df.to_csv('filtered_features.csv', index=False)"
      ],
      "metadata": {
        "id": "4Rp24NwifSa6"
      },
      "execution_count": 30,
      "outputs": []
    },
    {
      "cell_type": "code",
      "source": [],
      "metadata": {
        "id": "APTRtWb9QZKS"
      },
      "execution_count": null,
      "outputs": []
    }
  ]
}