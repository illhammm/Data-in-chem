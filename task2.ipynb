{
  "nbformat": 4,
  "nbformat_minor": 0,
  "metadata": {
    "colab": {
      "provenance": [],
      "include_colab_link": true
    },
    "kernelspec": {
      "name": "python3",
      "display_name": "Python 3"
    },
    "language_info": {
      "name": "python"
    }
  },
  "cells": [
    {
      "cell_type": "markdown",
      "metadata": {
        "id": "view-in-github",
        "colab_type": "text"
      },
      "source": [
        "<a href=\"https://colab.research.google.com/github/illhammm/Data-in-chem/blob/main/task2.ipynb\" target=\"_parent\"><img src=\"https://colab.research.google.com/assets/colab-badge.svg\" alt=\"Open In Colab\"/></a>"
      ]
    },
    {
      "cell_type": "markdown",
      "source": [
        "# For dataset **qm9_new.csv** get 1000+ descriptors from 2+ sources: RDKit, Pubchem, Mordred, etc."
      ],
      "metadata": {
        "id": "KLiVardbEOKr"
      }
    },
    {
      "cell_type": "code",
      "source": [
        "!pip install pandas rdkit pubchempy mordred"
      ],
      "metadata": {
        "colab": {
          "base_uri": "https://localhost:8080/"
        },
        "id": "DybxC5A3bsR0",
        "outputId": "8c0aa0fc-007f-4a16-c072-331be7ead400"
      },
      "execution_count": 1,
      "outputs": [
        {
          "output_type": "stream",
          "name": "stdout",
          "text": [
            "Requirement already satisfied: pandas in /usr/local/lib/python3.10/dist-packages (2.0.3)\n",
            "Requirement already satisfied: rdkit in /usr/local/lib/python3.10/dist-packages (2023.9.5)\n",
            "Requirement already satisfied: pubchempy in /usr/local/lib/python3.10/dist-packages (1.0.4)\n",
            "Requirement already satisfied: mordred in /usr/local/lib/python3.10/dist-packages (1.2.0)\n",
            "Requirement already satisfied: python-dateutil>=2.8.2 in /usr/local/lib/python3.10/dist-packages (from pandas) (2.8.2)\n",
            "Requirement already satisfied: pytz>=2020.1 in /usr/local/lib/python3.10/dist-packages (from pandas) (2023.4)\n",
            "Requirement already satisfied: tzdata>=2022.1 in /usr/local/lib/python3.10/dist-packages (from pandas) (2024.1)\n",
            "Requirement already satisfied: numpy>=1.21.0 in /usr/local/lib/python3.10/dist-packages (from pandas) (1.25.2)\n",
            "Requirement already satisfied: Pillow in /usr/local/lib/python3.10/dist-packages (from rdkit) (9.4.0)\n",
            "Requirement already satisfied: six==1.* in /usr/local/lib/python3.10/dist-packages (from mordred) (1.16.0)\n",
            "Requirement already satisfied: networkx==2.* in /usr/local/lib/python3.10/dist-packages (from mordred) (2.8.8)\n"
          ]
        }
      ]
    },
    {
      "cell_type": "code",
      "execution_count": 2,
      "metadata": {
        "id": "lfkI1rZJSBWq"
      },
      "outputs": [],
      "source": [
        "import pandas as pd\n",
        "from rdkit import Chem\n",
        "from rdkit.Chem import Descriptors\n",
        "from mordred import Calculator, descriptors\n",
        "import pubchempy as pcp\n",
        "from sklearn.feature_selection import VarianceThreshold\n",
        "from sklearn.feature_selection import SelectKBest\n",
        "from sklearn.feature_selection import f_regression, mutual_info_regression"
      ]
    },
    {
      "cell_type": "code",
      "source": [
        "# Функция для загрузки дескрипторов из PubChem\n",
        "def get_pubchem_descriptors(smiles):\n",
        "    try:\n",
        "        compound = pcp.get_compounds(smiles, 'smiles')\n",
        "        cid = compound[0].cid\n",
        "        properties = pcp.get_properties('property', cid)\n",
        "        descriptors = {prop['Name']: prop['Value'] for prop in properties[0]}\n",
        "        return descriptors\n",
        "    except Exception as e:\n",
        "        print(f\"Error fetching descriptors for SMILES {smiles}: {e}\")\n",
        "        return None"
      ],
      "metadata": {
        "id": "TVMJe3a7cOEU"
      },
      "execution_count": 3,
      "outputs": []
    },
    {
      "cell_type": "code",
      "source": [
        "# Функция для получения дополнительных дескрипторов из PubChem\n",
        "def get_additional_pubchem_descriptors(smiles):\n",
        "    try:\n",
        "        # Ваши операции для получения дополнительных дескрипторов из PubChem\n",
        "        pass\n",
        "    except Exception as e:\n",
        "        print(f\"Error fetching additional descriptors for SMILES {smiles}: {e}\")\n",
        "        return None"
      ],
      "metadata": {
        "id": "S17aFR4rhd1q"
      },
      "execution_count": 4,
      "outputs": []
    },
    {
      "cell_type": "code",
      "source": [
        "# # Функция для загрузки дескрипторов из PubChem\n",
        "# def get_pubchem_descriptors(smiles):\n",
        "#     try:\n",
        "#         compound = pcp.get_compounds(smiles, 'smiles')\n",
        "#         cid = compound[0].cid\n",
        "#         properties = pcp.get_properties('property', cid)\n",
        "#         descriptors = {prop['Name']: prop['Value'] for prop in properties[0]}\n",
        "#         return descriptors\n",
        "#     except Exception as e:\n",
        "#         print(f\"Error fetching descriptors for SMILES {smiles}: {e}\")\n",
        "#         return None"
      ],
      "metadata": {
        "id": "Qts7RG-Xbo6k"
      },
      "execution_count": null,
      "outputs": []
    },
    {
      "cell_type": "code",
      "source": [
        "# Функция для вычисления дескрипторов с помощью Mordred\n",
        "def calculate_mordred_descriptors(smiles):\n",
        "    try:\n",
        "        molecule = Chem.MolFromSmiles(smiles)\n",
        "        if molecule is None:\n",
        "            return None\n",
        "        calc = Calculator(descriptors)\n",
        "        descriptors = calc(molecule)\n",
        "        return descriptors.asdict()\n",
        "    except Exception as e:\n",
        "        print(f\"Error calculating Mordred descriptors for SMILES {smiles}: {e}\")\n",
        "        return None"
      ],
      "metadata": {
        "id": "vVrt8KVqcVZs"
      },
      "execution_count": 5,
      "outputs": []
    },
    {
      "cell_type": "code",
      "source": [
        "df = pd.read_csv(\"qm9_1.csv\")"
      ],
      "metadata": {
        "id": "-cWayDHvh6ZM"
      },
      "execution_count": 6,
      "outputs": []
    },
    {
      "cell_type": "code",
      "source": [
        "df.info()"
      ],
      "metadata": {
        "colab": {
          "base_uri": "https://localhost:8080/"
        },
        "id": "12RTm3HkiK9G",
        "outputId": "0c3e28ad-3fbb-42bf-dbbe-f040a470da91"
      },
      "execution_count": 8,
      "outputs": [
        {
          "output_type": "stream",
          "name": "stdout",
          "text": [
            "<class 'pandas.core.frame.DataFrame'>\n",
            "RangeIndex: 100 entries, 0 to 99\n",
            "Data columns (total 17 columns):\n",
            " #   Column  Non-Null Count  Dtype  \n",
            "---  ------  --------------  -----  \n",
            " 0   mol_id  100 non-null    object \n",
            " 1   smiles  100 non-null    object \n",
            " 2   A       100 non-null    float64\n",
            " 3   B       100 non-null    float64\n",
            " 4   C       100 non-null    float64\n",
            " 5   mu      100 non-null    float64\n",
            " 6   alpha   100 non-null    float64\n",
            " 7   homo    100 non-null    float64\n",
            " 8   lumo    100 non-null    float64\n",
            " 9   gap     100 non-null    float64\n",
            " 10  r2      100 non-null    float64\n",
            " 11  zpve    100 non-null    float64\n",
            " 12  u0      100 non-null    float64\n",
            " 13  u298    100 non-null    float64\n",
            " 14  h298    100 non-null    float64\n",
            " 15  g298    100 non-null    float64\n",
            " 16  cv      100 non-null    float64\n",
            "dtypes: float64(15), object(2)\n",
            "memory usage: 13.4+ KB\n"
          ]
        }
      ]
    },
    {
      "cell_type": "code",
      "source": [
        "# Выборка подмножества данных для тестирования (можно удалить в финальной версии)\n",
        "df = df.head(100)"
      ],
      "metadata": {
        "id": "f2eixMp7h_es"
      },
      "execution_count": 7,
      "outputs": []
    },
    {
      "cell_type": "code",
      "source": [
        "# Вычисление дескрипторов с помощью Mordred\n",
        "df['mordred_descriptors'] = df['smiles'].apply(calculate_mordred_descriptors)"
      ],
      "metadata": {
        "colab": {
          "base_uri": "https://localhost:8080/"
        },
        "id": "yxJHuK8Iie18",
        "outputId": "d97c3725-6719-4c3a-ef93-ee8cb9bb158f"
      },
      "execution_count": 9,
      "outputs": [
        {
          "output_type": "stream",
          "name": "stdout",
          "text": [
            "Error calculating Mordred descriptors for SMILES CCC1=CC=CCCC1: local variable 'descriptors' referenced before assignment\n",
            "Error calculating Mordred descriptors for SMILES CCn1ccc(n1)OC: local variable 'descriptors' referenced before assignment\n",
            "Error calculating Mordred descriptors for SMILES CC(NCC#N)C1CN1: local variable 'descriptors' referenced before assignment\n",
            "Error calculating Mordred descriptors for SMILES CC(=O)C(=O)N1CC1: local variable 'descriptors' referenced before assignment\n",
            "Error calculating Mordred descriptors for SMILES OC1CCC11CC1C#C: local variable 'descriptors' referenced before assignment\n",
            "Error calculating Mordred descriptors for SMILES CC1=CCC2OC=NC12: local variable 'descriptors' referenced before assignment\n",
            "Error calculating Mordred descriptors for SMILES COCC1C2CC1O2: local variable 'descriptors' referenced before assignment\n",
            "Error calculating Mordred descriptors for SMILES CC1(C)C2N1CC2(C)O: local variable 'descriptors' referenced before assignment\n",
            "Error calculating Mordred descriptors for SMILES O=C1C2CCC1OC2: local variable 'descriptors' referenced before assignment\n",
            "Error calculating Mordred descriptors for SMILES CCC1=C(N)OC(=N)O1: local variable 'descriptors' referenced before assignment\n",
            "Error calculating Mordred descriptors for SMILES O=C(C#C)C12CCC1O2: local variable 'descriptors' referenced before assignment\n",
            "Error calculating Mordred descriptors for SMILES N=C1OCC2C1OC2=O: local variable 'descriptors' referenced before assignment\n",
            "Error calculating Mordred descriptors for SMILES CC12CC3C4CC1N2C34: local variable 'descriptors' referenced before assignment\n",
            "Error calculating Mordred descriptors for SMILES CCc1c(cc([nH]1)C)C: local variable 'descriptors' referenced before assignment\n",
            "Error calculating Mordred descriptors for SMILES C1C2C=CC3C=CC1C23: local variable 'descriptors' referenced before assignment\n",
            "Error calculating Mordred descriptors for SMILES [NH3+]CC1=C([O-])C(O)=NO1: local variable 'descriptors' referenced before assignment\n",
            "Error calculating Mordred descriptors for SMILES CC1C(NC1C#N)C=O: local variable 'descriptors' referenced before assignment\n",
            "Error calculating Mordred descriptors for SMILES c1nc(on1)C2(CC2)O: local variable 'descriptors' referenced before assignment\n",
            "Error calculating Mordred descriptors for SMILES OCC1OCC1O: local variable 'descriptors' referenced before assignment\n",
            "Error calculating Mordred descriptors for SMILES CC1(CCC=C1C#N)C: local variable 'descriptors' referenced before assignment\n",
            "Error calculating Mordred descriptors for SMILES C1CC23C1C1C2CCN31: local variable 'descriptors' referenced before assignment\n",
            "Error calculating Mordred descriptors for SMILES c1c([nH]nc1C=O)CO: local variable 'descriptors' referenced before assignment\n",
            "Error calculating Mordred descriptors for SMILES C1CC2(CC2)NCC1=O: local variable 'descriptors' referenced before assignment\n",
            "Error calculating Mordred descriptors for SMILES CC(=NO)C1C(O)C1O: local variable 'descriptors' referenced before assignment\n",
            "Error calculating Mordred descriptors for SMILES NC(=O)C1NC(=N)C1O: local variable 'descriptors' referenced before assignment\n",
            "Error calculating Mordred descriptors for SMILES C1C=CC=CCNC1=O: local variable 'descriptors' referenced before assignment\n",
            "Error calculating Mordred descriptors for SMILES OCC(O)COC1CC1: local variable 'descriptors' referenced before assignment\n",
            "Error calculating Mordred descriptors for SMILES c1c2c(ncn1)CC=C2: local variable 'descriptors' referenced before assignment\n",
            "Error calculating Mordred descriptors for SMILES c1coc2c1N=COC2: local variable 'descriptors' referenced before assignment\n",
            "Error calculating Mordred descriptors for SMILES COCC#CC(C)O: local variable 'descriptors' referenced before assignment\n",
            "Error calculating Mordred descriptors for SMILES CC(=O)C1(CO1)C#N: local variable 'descriptors' referenced before assignment\n",
            "Error calculating Mordred descriptors for SMILES COC1CC2(CO2)C=C1: local variable 'descriptors' referenced before assignment\n",
            "Error calculating Mordred descriptors for SMILES COC1CC2CC1C2C: local variable 'descriptors' referenced before assignment\n",
            "Error calculating Mordred descriptors for SMILES c1nc(on1)CNC=O: local variable 'descriptors' referenced before assignment\n",
            "Error calculating Mordred descriptors for SMILES COC12CC3C4C(C14)C23: local variable 'descriptors' referenced before assignment\n",
            "Error calculating Mordred descriptors for SMILES COC1C2C3CC2(C)C13: local variable 'descriptors' referenced before assignment\n",
            "Error calculating Mordred descriptors for SMILES OCC1CCOCC=C1: local variable 'descriptors' referenced before assignment\n",
            "Error calculating Mordred descriptors for SMILES CC1C2COC(=O)NC12: local variable 'descriptors' referenced before assignment\n",
            "Error calculating Mordred descriptors for SMILES N=C1OCC2CC1O2: local variable 'descriptors' referenced before assignment\n",
            "Error calculating Mordred descriptors for SMILES CC1C2CC3C2C3C1=O: local variable 'descriptors' referenced before assignment\n",
            "Error calculating Mordred descriptors for SMILES CC1=N[N-]C(=N1)[NH+]=CN: local variable 'descriptors' referenced before assignment\n",
            "Error calculating Mordred descriptors for SMILES CN1CCc2c1c[nH]n2: local variable 'descriptors' referenced before assignment\n",
            "Error calculating Mordred descriptors for SMILES CC(O)(C=O)C#CCO: local variable 'descriptors' referenced before assignment\n",
            "Error calculating Mordred descriptors for SMILES COCC(C#N)C1CC1: local variable 'descriptors' referenced before assignment\n",
            "Error calculating Mordred descriptors for SMILES CC12C3CC1CC(O)C23: local variable 'descriptors' referenced before assignment\n",
            "Error calculating Mordred descriptors for SMILES CC1=CC(C=O)C(=O)N1: local variable 'descriptors' referenced before assignment\n",
            "Error calculating Mordred descriptors for SMILES CC12OC(=O)C1N1CC21: local variable 'descriptors' referenced before assignment\n",
            "Error calculating Mordred descriptors for SMILES O=C1CC2(CCC=C2)N1: local variable 'descriptors' referenced before assignment\n",
            "Error calculating Mordred descriptors for SMILES CC1C=CC2OC1C=C2: local variable 'descriptors' referenced before assignment\n",
            "Error calculating Mordred descriptors for SMILES N=COCC1NC1C=O: local variable 'descriptors' referenced before assignment\n",
            "Error calculating Mordred descriptors for SMILES CC(O)CNC(=O)C#C: local variable 'descriptors' referenced before assignment\n",
            "Error calculating Mordred descriptors for SMILES CC1CC23NC(C12)C3=O: local variable 'descriptors' referenced before assignment\n",
            "Error calculating Mordred descriptors for SMILES CC1C2CC1C(CO)C2: local variable 'descriptors' referenced before assignment\n",
            "Error calculating Mordred descriptors for SMILES CC1OC(=O)C(C)=C1: local variable 'descriptors' referenced before assignment\n",
            "Error calculating Mordred descriptors for SMILES CC1=CCCCCC1: local variable 'descriptors' referenced before assignment\n",
            "Error calculating Mordred descriptors for SMILES CCC1(CCC1)C(=O)C: local variable 'descriptors' referenced before assignment\n",
            "Error calculating Mordred descriptors for SMILES COCC1C2CCOC12: local variable 'descriptors' referenced before assignment\n",
            "Error calculating Mordred descriptors for SMILES O=COCC1C2CN1C2: local variable 'descriptors' referenced before assignment\n",
            "Error calculating Mordred descriptors for SMILES CC(C)(CO)C(N)C#N: local variable 'descriptors' referenced before assignment\n",
            "Error calculating Mordred descriptors for SMILES OC1CC2C3OC1OC23: local variable 'descriptors' referenced before assignment\n",
            "Error calculating Mordred descriptors for SMILES CC#CCOC1CC1C: local variable 'descriptors' referenced before assignment\n",
            "Error calculating Mordred descriptors for SMILES c1cn(cc1N)C=O: local variable 'descriptors' referenced before assignment\n",
            "Error calculating Mordred descriptors for SMILES C#CC(C#C)(C#C)O: local variable 'descriptors' referenced before assignment\n",
            "Error calculating Mordred descriptors for SMILES CN=C1NN=C(F)N=C1: local variable 'descriptors' referenced before assignment\n",
            "Error calculating Mordred descriptors for SMILES CCCC(C)C1(C)CC1: local variable 'descriptors' referenced before assignment\n",
            "Error calculating Mordred descriptors for SMILES COCC1C2OCC12C: local variable 'descriptors' referenced before assignment\n",
            "Error calculating Mordred descriptors for SMILES C[NH+]1CC2(CC12)C([O-])=O: local variable 'descriptors' referenced before assignment\n",
            "Error calculating Mordred descriptors for SMILES OC12COC1C1CCC21: local variable 'descriptors' referenced before assignment\n",
            "Error calculating Mordred descriptors for SMILES CC1(NC1CO)C#C: local variable 'descriptors' referenced before assignment\n",
            "Error calculating Mordred descriptors for SMILES C(C=O)N=C(C=O)N: local variable 'descriptors' referenced before assignment\n",
            "Error calculating Mordred descriptors for SMILES OCC1=NNC(=N)C=C1: local variable 'descriptors' referenced before assignment\n",
            "Error calculating Mordred descriptors for SMILES N=C1CC(=CCO1)C#N: local variable 'descriptors' referenced before assignment\n",
            "Error calculating Mordred descriptors for SMILES CC#CC#CCC(=O)C: local variable 'descriptors' referenced before assignment\n",
            "Error calculating Mordred descriptors for SMILES OCC1CCC1C1CO1: local variable 'descriptors' referenced before assignment\n",
            "Error calculating Mordred descriptors for SMILES Cn1c(=O)nc(nn1)N: local variable 'descriptors' referenced before assignment\n",
            "Error calculating Mordred descriptors for SMILES [NH2+]=CNC1=CN[CH-]C1=O: local variable 'descriptors' referenced before assignment\n",
            "Error calculating Mordred descriptors for SMILES CC1(C)CC2(O)COC12: local variable 'descriptors' referenced before assignment\n",
            "Error calculating Mordred descriptors for SMILES Cc1c[nH]c(c1C#C)C: local variable 'descriptors' referenced before assignment\n",
            "Error calculating Mordred descriptors for SMILES COC1(CC1)C1(C)CN1: local variable 'descriptors' referenced before assignment\n",
            "Error calculating Mordred descriptors for SMILES CC1OC2(C#C)C(O)C12: local variable 'descriptors' referenced before assignment\n",
            "Error calculating Mordred descriptors for SMILES CC1(CC#N)NC1C#C: local variable 'descriptors' referenced before assignment\n",
            "Error calculating Mordred descriptors for SMILES CC(=O)C1CCC1CO: local variable 'descriptors' referenced before assignment\n",
            "Error calculating Mordred descriptors for SMILES CC1C2COCCC12O: local variable 'descriptors' referenced before assignment\n",
            "Error calculating Mordred descriptors for SMILES COC1OC2CC1C2C: local variable 'descriptors' referenced before assignment\n",
            "Error calculating Mordred descriptors for SMILES CC12C3OC1(C)C(O)C23: local variable 'descriptors' referenced before assignment\n",
            "Error calculating Mordred descriptors for SMILES NC1(CC#N)CC2NC12: local variable 'descriptors' referenced before assignment\n",
            "Error calculating Mordred descriptors for SMILES C1C2C3C2C2OC1OC32: local variable 'descriptors' referenced before assignment\n",
            "Error calculating Mordred descriptors for SMILES CC12NC1C1OC21C#C: local variable 'descriptors' referenced before assignment\n",
            "Error calculating Mordred descriptors for SMILES CC1(C)CC2CC(C2)C1: local variable 'descriptors' referenced before assignment\n",
            "Error calculating Mordred descriptors for SMILES CCC(=O)C1(CC1)C: local variable 'descriptors' referenced before assignment\n",
            "Error calculating Mordred descriptors for SMILES O=C1OCCC1CC#C: local variable 'descriptors' referenced before assignment\n",
            "Error calculating Mordred descriptors for SMILES CC1CC2CC1(C)C2O: local variable 'descriptors' referenced before assignment\n",
            "Error calculating Mordred descriptors for SMILES CC(=O)C#CC(=O)C: local variable 'descriptors' referenced before assignment\n",
            "Error calculating Mordred descriptors for SMILES NC(=O)OCC(O)C#C: local variable 'descriptors' referenced before assignment\n",
            "Error calculating Mordred descriptors for SMILES COc1nccc(=O)o1: local variable 'descriptors' referenced before assignment\n",
            "Error calculating Mordred descriptors for SMILES Cc1c(oc(=O)[nH]1)O: local variable 'descriptors' referenced before assignment\n",
            "Error calculating Mordred descriptors for SMILES CC1COCC(=N)OC1: local variable 'descriptors' referenced before assignment\n",
            "Error calculating Mordred descriptors for SMILES CNc1ncc(o1)OC: local variable 'descriptors' referenced before assignment\n",
            "Error calculating Mordred descriptors for SMILES CC#CC1CCC1(C)O: local variable 'descriptors' referenced before assignment\n",
            "Error calculating Mordred descriptors for SMILES CC1(C(=CCO1)C#N)C: local variable 'descriptors' referenced before assignment\n"
          ]
        }
      ]
    },
    {
      "cell_type": "code",
      "source": [
        "from mordred import descriptors\n",
        "\n",
        "# Создание калькулятора с использованием всех дескрипторов из Mordred\n",
        "calc = Calculator(descriptors)\n",
        "\n",
        "# Генератор списка для вычисления дескрипторов для каждой молекулы\n",
        "molecules = [Chem.MolFromSmiles(smiles) for smiles in df['smiles']]\n",
        "\n",
        "# Объединение исходного DataFrame с дескрипторами\n",
        "df_with_descriptors = calc.pandas(molecules)"
      ],
      "metadata": {
        "colab": {
          "base_uri": "https://localhost:8080/"
        },
        "id": "oHFsMOixim3e",
        "outputId": "7a00c4bd-34e1-4e8e-c93f-defb4828f86f"
      },
      "execution_count": 10,
      "outputs": [
        {
          "output_type": "stream",
          "name": "stderr",
          "text": [
            "100%|██████████| 100/100 [00:10<00:00,  9.92it/s]\n"
          ]
        }
      ]
    },
    {
      "cell_type": "code",
      "source": [
        "num_rows, num_columns = df.shape\n",
        "print(df.head())"
      ],
      "metadata": {
        "colab": {
          "base_uri": "https://localhost:8080/"
        },
        "id": "NDPM3atCi5cp",
        "outputId": "dae54d1a-17d6-48ae-a656-83b5e50dc5d4"
      },
      "execution_count": 18,
      "outputs": [
        {
          "output_type": "stream",
          "name": "stdout",
          "text": [
            "       mol_id            smiles        A        B        C      mu  alpha  \\\n",
            "0  gdb_109095     CCC1=CC=CCCC1  3.03486  1.07556  0.86799  0.6913  97.97   \n",
            "1  gdb_126739     CCn1ccc(n1)OC  3.12802  1.11330  0.87300  1.9682  79.80   \n",
            "2   gdb_61921    CC(NCC#N)C1CN1  3.23759  0.78411  0.66376  4.9958  80.82   \n",
            "3   gdb_17599  CC(=O)C(=O)N1CC1  3.92086  1.63625  1.19988  1.3069  64.00   \n",
            "4   gdb_94340    OC1CCC11CC1C#C  2.61019  1.28615  1.07855  2.0761  82.73   \n",
            "\n",
            "     homo    lumo     gap         r2      zpve          u0        u298  \\\n",
            "0 -0.2028 -0.0147  0.1880  1437.9297  0.207597 -351.182105 -351.172934   \n",
            "1 -0.2077  0.0319  0.2396  1364.4040  0.159883 -419.227054 -419.217941   \n",
            "2 -0.2486  0.0209  0.2695  1669.6409  0.170769 -399.297998 -399.288094   \n",
            "3 -0.2403 -0.0671  0.1732   978.7413  0.116682 -399.810511 -399.802101   \n",
            "4 -0.2360  0.0475  0.2835  1195.5554  0.157575 -385.829753 -385.820728   \n",
            "\n",
            "         h298        g298      cv mordred_descriptors  \n",
            "0 -351.171990 -351.216386  35.192                None  \n",
            "1 -419.216997 -419.261636  32.830                None  \n",
            "2 -399.287150 -399.333993  35.251                None  \n",
            "3 -399.801156 -399.844284  28.769                None  \n",
            "4 -385.819784 -385.863532  34.636                None  \n"
          ]
        }
      ]
    },
    {
      "cell_type": "code",
      "source": [
        "print(num_rows, num_columns)"
      ],
      "metadata": {
        "colab": {
          "base_uri": "https://localhost:8080/"
        },
        "id": "QyU2OoLzjnVk",
        "outputId": "e7220fbc-322c-4e61-d3ca-2e3113f7d211"
      },
      "execution_count": 19,
      "outputs": [
        {
          "output_type": "stream",
          "name": "stdout",
          "text": [
            "100 18\n"
          ]
        }
      ]
    },
    {
      "cell_type": "code",
      "source": [
        "#соеденим с нашим датасетом по smiles\n",
        "merged_df = pd.concat([df, df_with_descriptors], axis=1)"
      ],
      "metadata": {
        "id": "Ssph2UjGgc00"
      },
      "execution_count": 20,
      "outputs": []
    },
    {
      "cell_type": "code",
      "source": [
        "df = merged_df"
      ],
      "metadata": {
        "id": "LhgRPzZLgjrw"
      },
      "execution_count": 21,
      "outputs": []
    },
    {
      "cell_type": "code",
      "source": [
        "num_rows, num_columns = merged_df.shape\n",
        "print(num_rows, num_columns)"
      ],
      "metadata": {
        "colab": {
          "base_uri": "https://localhost:8080/"
        },
        "id": "veSpAUdAgpen",
        "outputId": "200c59b2-2410-4ed5-fcc5-c588d02561d0"
      },
      "execution_count": 25,
      "outputs": [
        {
          "output_type": "stream",
          "name": "stdout",
          "text": [
            "100 1844\n"
          ]
        }
      ]
    },
    {
      "cell_type": "code",
      "source": [
        "print(merged_df.head())"
      ],
      "metadata": {
        "colab": {
          "base_uri": "https://localhost:8080/"
        },
        "id": "XsNvStGokFLz",
        "outputId": "9e7fd90e-9cef-405a-f5f3-f40d05a51fdd"
      },
      "execution_count": 26,
      "outputs": [
        {
          "output_type": "stream",
          "name": "stdout",
          "text": [
            "       mol_id            smiles        A        B        C      mu  alpha  \\\n",
            "0  gdb_109095     CCC1=CC=CCCC1  3.03486  1.07556  0.86799  0.6913  97.97   \n",
            "1  gdb_126739     CCn1ccc(n1)OC  3.12802  1.11330  0.87300  1.9682  79.80   \n",
            "2   gdb_61921    CC(NCC#N)C1CN1  3.23759  0.78411  0.66376  4.9958  80.82   \n",
            "3   gdb_17599  CC(=O)C(=O)N1CC1  3.92086  1.63625  1.19988  1.3069  64.00   \n",
            "4   gdb_94340    OC1CCC11CC1C#C  2.61019  1.28615  1.07855  2.0761  82.73   \n",
            "\n",
            "     homo    lumo     gap  ...     SRW10     TSRW10          MW       AMW  \\\n",
            "0 -0.2028 -0.0147  0.1880  ...  8.168770  44.011196  122.109550  5.309111   \n",
            "1 -0.2077  0.0319  0.2396  ...  8.502891  50.670736  126.079313  6.635753   \n",
            "2 -0.2486  0.0209  0.2695  ...  8.633909  55.709489  125.095297  6.254765   \n",
            "3 -0.2403 -0.0671  0.1732  ...  8.760453  54.832926  113.047678  7.536512   \n",
            "4 -0.2360  0.0475  0.2835  ...  9.936003  61.495279  122.073165  6.424903   \n",
            "\n",
            "   WPath  WPol  Zagreb1 Zagreb2  mZagreb1  mZagreb2  \n",
            "0     88    11     38.0    40.0  2.861111  2.250000  \n",
            "1     91     8     40.0    44.0  3.472222  2.250000  \n",
            "2    101     8     40.0    44.0  3.472222  2.194444  \n",
            "3     64     8     38.0    43.0  3.833333  1.805556  \n",
            "4     85     9     52.0    67.0  3.284722  2.000000  \n",
            "\n",
            "[5 rows x 1844 columns]\n"
          ]
        }
      ]
    },
    {
      "cell_type": "code",
      "source": [
        "# Вычисление дескрипторов с помощью PubChem\n",
        "df['pubchem_descriptors'] = df['smiles'].apply(get_pubchem_descriptors)"
      ],
      "metadata": {
        "colab": {
          "base_uri": "https://localhost:8080/"
        },
        "id": "Y4KaNLj9lJvb",
        "outputId": "6295577b-a1c5-4f18-b0d7-6cc7c42f256b"
      },
      "execution_count": 27,
      "outputs": [
        {
          "output_type": "stream",
          "name": "stdout",
          "text": [
            "Error fetching descriptors for SMILES CCC1=CC=CCCC1: 'PUGREST.BadRequest'\n",
            "Error fetching descriptors for SMILES CCn1ccc(n1)OC: 'PUGREST.BadRequest'\n",
            "Error fetching descriptors for SMILES CC(NCC#N)C1CN1: identifier/cid cannot be None\n",
            "Error fetching descriptors for SMILES CC(=O)C(=O)N1CC1: identifier/cid cannot be None\n",
            "Error fetching descriptors for SMILES OC1CCC11CC1C#C: identifier/cid cannot be None\n",
            "Error fetching descriptors for SMILES CC1=CCC2OC=NC12: identifier/cid cannot be None\n",
            "Error fetching descriptors for SMILES COCC1C2CC1O2: identifier/cid cannot be None\n",
            "Error fetching descriptors for SMILES CC1(C)C2N1CC2(C)O: identifier/cid cannot be None\n",
            "Error fetching descriptors for SMILES O=C1C2CCC1OC2: 'PUGREST.BadRequest'\n",
            "Error fetching descriptors for SMILES CCC1=C(N)OC(=N)O1: identifier/cid cannot be None\n",
            "Error fetching descriptors for SMILES O=C(C#C)C12CCC1O2: identifier/cid cannot be None\n",
            "Error fetching descriptors for SMILES N=C1OCC2C1OC2=O: identifier/cid cannot be None\n",
            "Error fetching descriptors for SMILES CC12CC3C4CC1N2C34: identifier/cid cannot be None\n",
            "Error fetching descriptors for SMILES CCc1c(cc([nH]1)C)C: 'PUGREST.BadRequest'\n",
            "Error fetching descriptors for SMILES C1C2C=CC3C=CC1C23: 'PUGREST.BadRequest'\n",
            "Error fetching descriptors for SMILES [NH3+]CC1=C([O-])C(O)=NO1: identifier/cid cannot be None\n",
            "Error fetching descriptors for SMILES CC1C(NC1C#N)C=O: identifier/cid cannot be None\n",
            "Error fetching descriptors for SMILES c1nc(on1)C2(CC2)O: identifier/cid cannot be None\n",
            "Error fetching descriptors for SMILES OCC1OCC1O: 'PUGREST.BadRequest'\n",
            "Error fetching descriptors for SMILES CC1(CCC=C1C#N)C: 'PUGREST.BadRequest'\n",
            "Error fetching descriptors for SMILES C1CC23C1C1C2CCN31: identifier/cid cannot be None\n",
            "Error fetching descriptors for SMILES c1c([nH]nc1C=O)CO: identifier/cid cannot be None\n",
            "Error fetching descriptors for SMILES C1CC2(CC2)NCC1=O: 'PUGREST.BadRequest'\n",
            "Error fetching descriptors for SMILES CC(=NO)C1C(O)C1O: identifier/cid cannot be None\n",
            "Error fetching descriptors for SMILES NC(=O)C1NC(=N)C1O: identifier/cid cannot be None\n",
            "Error fetching descriptors for SMILES C1C=CC=CCNC1=O: identifier/cid cannot be None\n",
            "Error fetching descriptors for SMILES OCC(O)COC1CC1: 'PUGREST.BadRequest'\n",
            "Error fetching descriptors for SMILES c1c2c(ncn1)CC=C2: 'PUGREST.BadRequest'\n",
            "Error fetching descriptors for SMILES c1coc2c1N=COC2: identifier/cid cannot be None\n",
            "Error fetching descriptors for SMILES COCC#CC(C)O: 'PUGREST.BadRequest'\n",
            "Error fetching descriptors for SMILES CC(=O)C1(CO1)C#N: identifier/cid cannot be None\n",
            "Error fetching descriptors for SMILES COC1CC2(CO2)C=C1: identifier/cid cannot be None\n",
            "Error fetching descriptors for SMILES COC1CC2CC1C2C: identifier/cid cannot be None\n",
            "Error fetching descriptors for SMILES c1nc(on1)CNC=O: 'PUGREST.BadRequest'\n",
            "Error fetching descriptors for SMILES COC12CC3C4C(C14)C23: identifier/cid cannot be None\n",
            "Error fetching descriptors for SMILES COC1C2C3CC2(C)C13: identifier/cid cannot be None\n",
            "Error fetching descriptors for SMILES OCC1CCOCC=C1: 'PUGREST.BadRequest'\n",
            "Error fetching descriptors for SMILES CC1C2COC(=O)NC12: identifier/cid cannot be None\n",
            "Error fetching descriptors for SMILES N=C1OCC2CC1O2: identifier/cid cannot be None\n",
            "Error fetching descriptors for SMILES CC1C2CC3C2C3C1=O: identifier/cid cannot be None\n",
            "Error fetching descriptors for SMILES CC1=N[N-]C(=N1)[NH+]=CN: identifier/cid cannot be None\n",
            "Error fetching descriptors for SMILES CN1CCc2c1c[nH]n2: identifier/cid cannot be None\n",
            "Error fetching descriptors for SMILES CC(O)(C=O)C#CCO: identifier/cid cannot be None\n",
            "Error fetching descriptors for SMILES COCC(C#N)C1CC1: 'PUGREST.BadRequest'\n",
            "Error fetching descriptors for SMILES CC12C3CC1CC(O)C23: identifier/cid cannot be None\n",
            "Error fetching descriptors for SMILES CC1=CC(C=O)C(=O)N1: identifier/cid cannot be None\n",
            "Error fetching descriptors for SMILES CC12OC(=O)C1N1CC21: identifier/cid cannot be None\n",
            "Error fetching descriptors for SMILES O=C1CC2(CCC=C2)N1: identifier/cid cannot be None\n",
            "Error fetching descriptors for SMILES CC1C=CC2OC1C=C2: identifier/cid cannot be None\n",
            "Error fetching descriptors for SMILES N=COCC1NC1C=O: identifier/cid cannot be None\n",
            "Error fetching descriptors for SMILES CC(O)CNC(=O)C#C: 'PUGREST.BadRequest'\n",
            "Error fetching descriptors for SMILES CC1CC23NC(C12)C3=O: identifier/cid cannot be None\n",
            "Error fetching descriptors for SMILES CC1C2CC1C(CO)C2: identifier/cid cannot be None\n",
            "Error fetching descriptors for SMILES CC1OC(=O)C(C)=C1: 'PUGREST.BadRequest'\n",
            "Error fetching descriptors for SMILES CC1=CCCCCC1: 'PUGREST.BadRequest'\n",
            "Error fetching descriptors for SMILES CCC1(CCC1)C(=O)C: 'PUGREST.BadRequest'\n",
            "Error fetching descriptors for SMILES COCC1C2CCOC12: identifier/cid cannot be None\n",
            "Error fetching descriptors for SMILES O=COCC1C2CN1C2: identifier/cid cannot be None\n",
            "Error fetching descriptors for SMILES CC(C)(CO)C(N)C#N: 'PUGREST.BadRequest'\n",
            "Error fetching descriptors for SMILES OC1CC2C3OC1OC23: identifier/cid cannot be None\n",
            "Error fetching descriptors for SMILES CC#CCOC1CC1C: identifier/cid cannot be None\n",
            "Error fetching descriptors for SMILES c1cn(cc1N)C=O: identifier/cid cannot be None\n",
            "Error fetching descriptors for SMILES C#CC(C#C)(C#C)O: 'PUGREST.BadRequest'\n",
            "Error fetching descriptors for SMILES CN=C1NN=C(F)N=C1: identifier/cid cannot be None\n",
            "Error fetching descriptors for SMILES CCCC(C)C1(C)CC1: 'PUGREST.BadRequest'\n",
            "Error fetching descriptors for SMILES COCC1C2OCC12C: identifier/cid cannot be None\n",
            "Error fetching descriptors for SMILES C[NH+]1CC2(CC12)C([O-])=O: identifier/cid cannot be None\n",
            "Error fetching descriptors for SMILES OC12COC1C1CCC21: identifier/cid cannot be None\n",
            "Error fetching descriptors for SMILES CC1(NC1CO)C#C: identifier/cid cannot be None\n",
            "Error fetching descriptors for SMILES C(C=O)N=C(C=O)N: identifier/cid cannot be None\n",
            "Error fetching descriptors for SMILES OCC1=NNC(=N)C=C1: 'PUGREST.BadRequest'\n",
            "Error fetching descriptors for SMILES N=C1CC(=CCO1)C#N: identifier/cid cannot be None\n",
            "Error fetching descriptors for SMILES CC#CC#CCC(=O)C: identifier/cid cannot be None\n",
            "Error fetching descriptors for SMILES OCC1CCC1C1CO1: identifier/cid cannot be None\n",
            "Error fetching descriptors for SMILES Cn1c(=O)nc(nn1)N: identifier/cid cannot be None\n",
            "Error fetching descriptors for SMILES [NH2+]=CNC1=CN[CH-]C1=O: identifier/cid cannot be None\n",
            "Error fetching descriptors for SMILES CC1(C)CC2(O)COC12: identifier/cid cannot be None\n",
            "Error fetching descriptors for SMILES Cc1c[nH]c(c1C#C)C: 'PUGREST.BadRequest'\n",
            "Error fetching descriptors for SMILES COC1(CC1)C1(C)CN1: identifier/cid cannot be None\n",
            "Error fetching descriptors for SMILES CC1OC2(C#C)C(O)C12: identifier/cid cannot be None\n",
            "Error fetching descriptors for SMILES CC1(CC#N)NC1C#C: identifier/cid cannot be None\n",
            "Error fetching descriptors for SMILES CC(=O)C1CCC1CO: 'PUGREST.BadRequest'\n",
            "Error fetching descriptors for SMILES CC1C2COCCC12O: identifier/cid cannot be None\n",
            "Error fetching descriptors for SMILES COC1OC2CC1C2C: identifier/cid cannot be None\n",
            "Error fetching descriptors for SMILES CC12C3OC1(C)C(O)C23: identifier/cid cannot be None\n",
            "Error fetching descriptors for SMILES NC1(CC#N)CC2NC12: identifier/cid cannot be None\n",
            "Error fetching descriptors for SMILES C1C2C3C2C2OC1OC32: identifier/cid cannot be None\n",
            "Error fetching descriptors for SMILES CC12NC1C1OC21C#C: identifier/cid cannot be None\n",
            "Error fetching descriptors for SMILES CC1(C)CC2CC(C2)C1: 'PUGREST.BadRequest'\n",
            "Error fetching descriptors for SMILES CCC(=O)C1(CC1)C: 'PUGREST.BadRequest'\n",
            "Error fetching descriptors for SMILES O=C1OCCC1CC#C: 'PUGREST.BadRequest'\n",
            "Error fetching descriptors for SMILES CC1CC2CC1(C)C2O: identifier/cid cannot be None\n",
            "Error fetching descriptors for SMILES CC(=O)C#CC(=O)C: 'PUGREST.BadRequest'\n",
            "Error fetching descriptors for SMILES NC(=O)OCC(O)C#C: identifier/cid cannot be None\n",
            "Error fetching descriptors for SMILES COc1nccc(=O)o1: identifier/cid cannot be None\n",
            "Error fetching descriptors for SMILES Cc1c(oc(=O)[nH]1)O: 'PUGREST.BadRequest'\n",
            "Error fetching descriptors for SMILES CC1COCC(=N)OC1: identifier/cid cannot be None\n",
            "Error fetching descriptors for SMILES CNc1ncc(o1)OC: identifier/cid cannot be None\n",
            "Error fetching descriptors for SMILES CC#CC1CCC1(C)O: identifier/cid cannot be None\n",
            "Error fetching descriptors for SMILES CC1(C(=CCO1)C#N)C: identifier/cid cannot be None\n"
          ]
        }
      ]
    },
    {
      "cell_type": "code",
      "source": [
        "# # Функция для вычисления дескрипторов с помощью Mordred\n",
        "# def calculate_mordred_descriptors(smiles):\n",
        "#     try:\n",
        "#         molecule = Chem.MolFromSmiles(smiles)\n",
        "#         if molecule is None:\n",
        "#             return None\n",
        "#         calc = Calculator(descriptors)\n",
        "#         descriptors = calc(molecule)\n",
        "#         return descriptors.asdict()\n",
        "#     except Exception as e:\n",
        "#         print(f\"Error calculating Mordred descriptors for SMILES {smiles}: {e}\")\n",
        "#         return None"
      ],
      "metadata": {
        "id": "qmFL3CDBbrhk"
      },
      "execution_count": null,
      "outputs": []
    },
    {
      "cell_type": "code",
      "source": [
        "# # Функция для получения дескрипторов из PubChem\n",
        "# def get_pubchem_descriptors(smiles):\n",
        "#     try:\n",
        "#         compound = pcp.get_compounds(smiles, 'smiles')\n",
        "#         cid = compound[0].cid\n",
        "#         properties = pcp.get_properties('property', cid)\n",
        "#         descriptors = {prop['Name']: prop['Value'] for prop in properties[0]}\n",
        "#         return descriptors\n",
        "#     except Exception as e:\n",
        "#         print(f\"Error fetching descriptors for SMILES {smiles}: {e}\")\n",
        "#         return None"
      ],
      "metadata": {
        "id": "25xLqHXSelwM"
      },
      "execution_count": 18,
      "outputs": []
    },
    {
      "cell_type": "code",
      "source": [
        "# # Создание списка молекул из SMILES строк\n",
        "# molecules = [Chem.MolFromSmiles(smiles) for smiles in df['smiles']]"
      ],
      "metadata": {
        "id": "EHpu4-ZSfV3M"
      },
      "execution_count": 19,
      "outputs": []
    },
    {
      "cell_type": "code",
      "source": [
        "# # Вычисление дескрипторов с помощью Mordred\n",
        "# df['mordred_descriptors'] = df['smiles'].apply(calculate_mordred_descriptors)"
      ],
      "metadata": {
        "id": "-20XLUaFc0t1"
      },
      "execution_count": null,
      "outputs": []
    },
    {
      "cell_type": "code",
      "source": [
        "# Получение дескрипторов из PubChem для каждой молекулы\n",
        "pubchem_descriptors = [get_pubchem_descriptors(smiles) for smiles in df['smiles']]"
      ],
      "metadata": {
        "colab": {
          "base_uri": "https://localhost:8080/"
        },
        "id": "KVDTiXuEffU0",
        "outputId": "50850017-9b70-4cbb-d9d4-16d37e3974d2"
      },
      "execution_count": 28,
      "outputs": [
        {
          "output_type": "stream",
          "name": "stdout",
          "text": [
            "Error fetching descriptors for SMILES CCC1=CC=CCCC1: 'PUGREST.BadRequest'\n",
            "Error fetching descriptors for SMILES CCn1ccc(n1)OC: 'PUGREST.BadRequest'\n",
            "Error fetching descriptors for SMILES CC(NCC#N)C1CN1: identifier/cid cannot be None\n",
            "Error fetching descriptors for SMILES CC(=O)C(=O)N1CC1: identifier/cid cannot be None\n",
            "Error fetching descriptors for SMILES OC1CCC11CC1C#C: identifier/cid cannot be None\n",
            "Error fetching descriptors for SMILES CC1=CCC2OC=NC12: identifier/cid cannot be None\n",
            "Error fetching descriptors for SMILES COCC1C2CC1O2: identifier/cid cannot be None\n",
            "Error fetching descriptors for SMILES CC1(C)C2N1CC2(C)O: identifier/cid cannot be None\n",
            "Error fetching descriptors for SMILES O=C1C2CCC1OC2: 'PUGREST.BadRequest'\n",
            "Error fetching descriptors for SMILES CCC1=C(N)OC(=N)O1: identifier/cid cannot be None\n",
            "Error fetching descriptors for SMILES O=C(C#C)C12CCC1O2: identifier/cid cannot be None\n",
            "Error fetching descriptors for SMILES N=C1OCC2C1OC2=O: identifier/cid cannot be None\n",
            "Error fetching descriptors for SMILES CC12CC3C4CC1N2C34: identifier/cid cannot be None\n",
            "Error fetching descriptors for SMILES CCc1c(cc([nH]1)C)C: 'PUGREST.BadRequest'\n",
            "Error fetching descriptors for SMILES C1C2C=CC3C=CC1C23: 'PUGREST.BadRequest'\n",
            "Error fetching descriptors for SMILES [NH3+]CC1=C([O-])C(O)=NO1: identifier/cid cannot be None\n",
            "Error fetching descriptors for SMILES CC1C(NC1C#N)C=O: identifier/cid cannot be None\n",
            "Error fetching descriptors for SMILES c1nc(on1)C2(CC2)O: identifier/cid cannot be None\n",
            "Error fetching descriptors for SMILES OCC1OCC1O: 'PUGREST.BadRequest'\n",
            "Error fetching descriptors for SMILES CC1(CCC=C1C#N)C: 'PUGREST.BadRequest'\n",
            "Error fetching descriptors for SMILES C1CC23C1C1C2CCN31: identifier/cid cannot be None\n",
            "Error fetching descriptors for SMILES c1c([nH]nc1C=O)CO: identifier/cid cannot be None\n",
            "Error fetching descriptors for SMILES C1CC2(CC2)NCC1=O: 'PUGREST.BadRequest'\n",
            "Error fetching descriptors for SMILES CC(=NO)C1C(O)C1O: identifier/cid cannot be None\n",
            "Error fetching descriptors for SMILES NC(=O)C1NC(=N)C1O: identifier/cid cannot be None\n",
            "Error fetching descriptors for SMILES C1C=CC=CCNC1=O: identifier/cid cannot be None\n",
            "Error fetching descriptors for SMILES OCC(O)COC1CC1: 'PUGREST.BadRequest'\n",
            "Error fetching descriptors for SMILES c1c2c(ncn1)CC=C2: 'PUGREST.BadRequest'\n",
            "Error fetching descriptors for SMILES c1coc2c1N=COC2: identifier/cid cannot be None\n",
            "Error fetching descriptors for SMILES COCC#CC(C)O: 'PUGREST.BadRequest'\n",
            "Error fetching descriptors for SMILES CC(=O)C1(CO1)C#N: identifier/cid cannot be None\n",
            "Error fetching descriptors for SMILES COC1CC2(CO2)C=C1: identifier/cid cannot be None\n",
            "Error fetching descriptors for SMILES COC1CC2CC1C2C: identifier/cid cannot be None\n",
            "Error fetching descriptors for SMILES c1nc(on1)CNC=O: 'PUGREST.BadRequest'\n",
            "Error fetching descriptors for SMILES COC12CC3C4C(C14)C23: identifier/cid cannot be None\n",
            "Error fetching descriptors for SMILES COC1C2C3CC2(C)C13: identifier/cid cannot be None\n",
            "Error fetching descriptors for SMILES OCC1CCOCC=C1: 'PUGREST.BadRequest'\n",
            "Error fetching descriptors for SMILES CC1C2COC(=O)NC12: identifier/cid cannot be None\n",
            "Error fetching descriptors for SMILES N=C1OCC2CC1O2: identifier/cid cannot be None\n",
            "Error fetching descriptors for SMILES CC1C2CC3C2C3C1=O: identifier/cid cannot be None\n",
            "Error fetching descriptors for SMILES CC1=N[N-]C(=N1)[NH+]=CN: identifier/cid cannot be None\n",
            "Error fetching descriptors for SMILES CN1CCc2c1c[nH]n2: identifier/cid cannot be None\n",
            "Error fetching descriptors for SMILES CC(O)(C=O)C#CCO: identifier/cid cannot be None\n",
            "Error fetching descriptors for SMILES COCC(C#N)C1CC1: 'PUGREST.BadRequest'\n",
            "Error fetching descriptors for SMILES CC12C3CC1CC(O)C23: identifier/cid cannot be None\n",
            "Error fetching descriptors for SMILES CC1=CC(C=O)C(=O)N1: identifier/cid cannot be None\n",
            "Error fetching descriptors for SMILES CC12OC(=O)C1N1CC21: identifier/cid cannot be None\n",
            "Error fetching descriptors for SMILES O=C1CC2(CCC=C2)N1: identifier/cid cannot be None\n",
            "Error fetching descriptors for SMILES CC1C=CC2OC1C=C2: identifier/cid cannot be None\n",
            "Error fetching descriptors for SMILES N=COCC1NC1C=O: identifier/cid cannot be None\n",
            "Error fetching descriptors for SMILES CC(O)CNC(=O)C#C: 'PUGREST.BadRequest'\n",
            "Error fetching descriptors for SMILES CC1CC23NC(C12)C3=O: identifier/cid cannot be None\n",
            "Error fetching descriptors for SMILES CC1C2CC1C(CO)C2: identifier/cid cannot be None\n",
            "Error fetching descriptors for SMILES CC1OC(=O)C(C)=C1: 'PUGREST.BadRequest'\n",
            "Error fetching descriptors for SMILES CC1=CCCCCC1: 'PUGREST.BadRequest'\n",
            "Error fetching descriptors for SMILES CCC1(CCC1)C(=O)C: 'PUGREST.BadRequest'\n",
            "Error fetching descriptors for SMILES COCC1C2CCOC12: identifier/cid cannot be None\n",
            "Error fetching descriptors for SMILES O=COCC1C2CN1C2: identifier/cid cannot be None\n",
            "Error fetching descriptors for SMILES CC(C)(CO)C(N)C#N: 'PUGREST.BadRequest'\n",
            "Error fetching descriptors for SMILES OC1CC2C3OC1OC23: identifier/cid cannot be None\n",
            "Error fetching descriptors for SMILES CC#CCOC1CC1C: identifier/cid cannot be None\n",
            "Error fetching descriptors for SMILES c1cn(cc1N)C=O: identifier/cid cannot be None\n",
            "Error fetching descriptors for SMILES C#CC(C#C)(C#C)O: 'PUGREST.BadRequest'\n",
            "Error fetching descriptors for SMILES CN=C1NN=C(F)N=C1: identifier/cid cannot be None\n",
            "Error fetching descriptors for SMILES CCCC(C)C1(C)CC1: 'PUGREST.BadRequest'\n",
            "Error fetching descriptors for SMILES COCC1C2OCC12C: identifier/cid cannot be None\n",
            "Error fetching descriptors for SMILES C[NH+]1CC2(CC12)C([O-])=O: identifier/cid cannot be None\n",
            "Error fetching descriptors for SMILES OC12COC1C1CCC21: identifier/cid cannot be None\n",
            "Error fetching descriptors for SMILES CC1(NC1CO)C#C: identifier/cid cannot be None\n",
            "Error fetching descriptors for SMILES C(C=O)N=C(C=O)N: identifier/cid cannot be None\n",
            "Error fetching descriptors for SMILES OCC1=NNC(=N)C=C1: 'PUGREST.BadRequest'\n",
            "Error fetching descriptors for SMILES N=C1CC(=CCO1)C#N: identifier/cid cannot be None\n",
            "Error fetching descriptors for SMILES CC#CC#CCC(=O)C: identifier/cid cannot be None\n",
            "Error fetching descriptors for SMILES OCC1CCC1C1CO1: identifier/cid cannot be None\n",
            "Error fetching descriptors for SMILES Cn1c(=O)nc(nn1)N: identifier/cid cannot be None\n",
            "Error fetching descriptors for SMILES [NH2+]=CNC1=CN[CH-]C1=O: identifier/cid cannot be None\n",
            "Error fetching descriptors for SMILES CC1(C)CC2(O)COC12: identifier/cid cannot be None\n",
            "Error fetching descriptors for SMILES Cc1c[nH]c(c1C#C)C: 'PUGREST.BadRequest'\n",
            "Error fetching descriptors for SMILES COC1(CC1)C1(C)CN1: identifier/cid cannot be None\n",
            "Error fetching descriptors for SMILES CC1OC2(C#C)C(O)C12: identifier/cid cannot be None\n",
            "Error fetching descriptors for SMILES CC1(CC#N)NC1C#C: identifier/cid cannot be None\n",
            "Error fetching descriptors for SMILES CC(=O)C1CCC1CO: 'PUGREST.BadRequest'\n",
            "Error fetching descriptors for SMILES CC1C2COCCC12O: identifier/cid cannot be None\n",
            "Error fetching descriptors for SMILES COC1OC2CC1C2C: identifier/cid cannot be None\n",
            "Error fetching descriptors for SMILES CC12C3OC1(C)C(O)C23: identifier/cid cannot be None\n",
            "Error fetching descriptors for SMILES NC1(CC#N)CC2NC12: identifier/cid cannot be None\n",
            "Error fetching descriptors for SMILES C1C2C3C2C2OC1OC32: identifier/cid cannot be None\n",
            "Error fetching descriptors for SMILES CC12NC1C1OC21C#C: identifier/cid cannot be None\n",
            "Error fetching descriptors for SMILES CC1(C)CC2CC(C2)C1: 'PUGREST.BadRequest'\n",
            "Error fetching descriptors for SMILES CCC(=O)C1(CC1)C: 'PUGREST.BadRequest'\n",
            "Error fetching descriptors for SMILES O=C1OCCC1CC#C: 'PUGREST.BadRequest'\n",
            "Error fetching descriptors for SMILES CC1CC2CC1(C)C2O: identifier/cid cannot be None\n",
            "Error fetching descriptors for SMILES CC(=O)C#CC(=O)C: 'PUGREST.BadRequest'\n",
            "Error fetching descriptors for SMILES NC(=O)OCC(O)C#C: identifier/cid cannot be None\n",
            "Error fetching descriptors for SMILES COc1nccc(=O)o1: identifier/cid cannot be None\n",
            "Error fetching descriptors for SMILES Cc1c(oc(=O)[nH]1)O: 'PUGREST.BadRequest'\n",
            "Error fetching descriptors for SMILES CC1COCC(=N)OC1: identifier/cid cannot be None\n",
            "Error fetching descriptors for SMILES CNc1ncc(o1)OC: identifier/cid cannot be None\n",
            "Error fetching descriptors for SMILES CC#CC1CCC1(C)O: identifier/cid cannot be None\n",
            "Error fetching descriptors for SMILES CC1(C(=CCO1)C#N)C: identifier/cid cannot be None\n"
          ]
        }
      ]
    },
    {
      "cell_type": "code",
      "source": [
        "# Объединение merged_df DataFrame с дескрипторами из PubChem\n",
        "df_with_pubchem_descriptors = pd.concat([merged_df, pd.DataFrame(pubchem_descriptors)], axis=1)"
      ],
      "metadata": {
        "id": "KrqGRLlRf2sb"
      },
      "execution_count": 29,
      "outputs": []
    },
    {
      "cell_type": "code",
      "source": [
        "# Вывод первых нескольких строк с дескрипторами из PubChem\n",
        "print(df_with_pubchem_descriptors.head())"
      ],
      "metadata": {
        "colab": {
          "base_uri": "https://localhost:8080/"
        },
        "id": "kTJS9MFNf707",
        "outputId": "28789ecb-d4d7-4769-b466-e31933d447be"
      },
      "execution_count": 30,
      "outputs": [
        {
          "output_type": "stream",
          "name": "stdout",
          "text": [
            "       mol_id            smiles        A        B        C      mu  alpha  \\\n",
            "0  gdb_109095     CCC1=CC=CCCC1  3.03486  1.07556  0.86799  0.6913  97.97   \n",
            "1  gdb_126739     CCn1ccc(n1)OC  3.12802  1.11330  0.87300  1.9682  79.80   \n",
            "2   gdb_61921    CC(NCC#N)C1CN1  3.23759  0.78411  0.66376  4.9958  80.82   \n",
            "3   gdb_17599  CC(=O)C(=O)N1CC1  3.92086  1.63625  1.19988  1.3069  64.00   \n",
            "4   gdb_94340    OC1CCC11CC1C#C  2.61019  1.28615  1.07855  2.0761  82.73   \n",
            "\n",
            "     homo    lumo     gap  ...          MW       AMW  WPath  WPol  Zagreb1  \\\n",
            "0 -0.2028 -0.0147  0.1880  ...  122.109550  5.309111     88    11     38.0   \n",
            "1 -0.2077  0.0319  0.2396  ...  126.079313  6.635753     91     8     40.0   \n",
            "2 -0.2486  0.0209  0.2695  ...  125.095297  6.254765    101     8     40.0   \n",
            "3 -0.2403 -0.0671  0.1732  ...  113.047678  7.536512     64     8     38.0   \n",
            "4 -0.2360  0.0475  0.2835  ...  122.073165  6.424903     85     9     52.0   \n",
            "\n",
            "   Zagreb2  mZagreb1  mZagreb2 pubchem_descriptors     0  \n",
            "0     40.0  2.861111  2.250000                None  None  \n",
            "1     44.0  3.472222  2.250000                None  None  \n",
            "2     44.0  3.472222  2.194444                None  None  \n",
            "3     43.0  3.833333  1.805556                None  None  \n",
            "4     67.0  3.284722  2.000000                None  None  \n",
            "\n",
            "[5 rows x 1846 columns]\n"
          ]
        }
      ]
    },
    {
      "cell_type": "markdown",
      "source": [
        "# Применение методов отбора признаков"
      ],
      "metadata": {
        "id": "W9o-EtaZnkMy"
      }
    },
    {
      "cell_type": "code",
      "source": [
        "# # Применение метода отбора признаков на основе корреляции Пирсона\n",
        "# selector_pearson = SelectKBest(score_func=f_regression, k=500)\n",
        "# selected_features_pearson = selector_pearson.fit_transform(df_with_pubchem_descriptors.drop(columns=['gap']), df_with_pubchem_descriptors['gap'])\n",
        "# selected_feature_names_pearson = df_with_pubchem_descriptors.drop(columns=['gap']).columns[selector_pearson.get_support()]"
      ],
      "metadata": {
        "colab": {
          "base_uri": "https://localhost:8080/",
          "height": 373
        },
        "id": "GGmJdOC6pReL",
        "outputId": "15697e12-5d6d-401d-b2ea-5fd719698ea4"
      },
      "execution_count": 33,
      "outputs": [
        {
          "output_type": "error",
          "ename": "TypeError",
          "evalue": "Feature names are only supported if all input features have string names, but your input has ['int', 'str'] as feature name / column name types. If you want feature names to be stored and validated, you must convert them all to strings, by using X.columns = X.columns.astype(str) for example. Otherwise you can remove feature / column names from your input data, or convert them all to a non-string data type.",
          "traceback": [
            "\u001b[0;31m---------------------------------------------------------------------------\u001b[0m",
            "\u001b[0;31mTypeError\u001b[0m                                 Traceback (most recent call last)",
            "\u001b[0;32m<ipython-input-33-1ed6d4a77e79>\u001b[0m in \u001b[0;36m<cell line: 3>\u001b[0;34m()\u001b[0m\n\u001b[1;32m      1\u001b[0m \u001b[0;31m# Применение метода отбора признаков на основе корреляции Пирсона\u001b[0m\u001b[0;34m\u001b[0m\u001b[0;34m\u001b[0m\u001b[0m\n\u001b[1;32m      2\u001b[0m \u001b[0mselector_pearson\u001b[0m \u001b[0;34m=\u001b[0m \u001b[0mSelectKBest\u001b[0m\u001b[0;34m(\u001b[0m\u001b[0mscore_func\u001b[0m\u001b[0;34m=\u001b[0m\u001b[0mf_regression\u001b[0m\u001b[0;34m,\u001b[0m \u001b[0mk\u001b[0m\u001b[0;34m=\u001b[0m\u001b[0;36m500\u001b[0m\u001b[0;34m)\u001b[0m\u001b[0;34m\u001b[0m\u001b[0;34m\u001b[0m\u001b[0m\n\u001b[0;32m----> 3\u001b[0;31m \u001b[0mselected_features_pearson\u001b[0m \u001b[0;34m=\u001b[0m \u001b[0mselector_pearson\u001b[0m\u001b[0;34m.\u001b[0m\u001b[0mfit_transform\u001b[0m\u001b[0;34m(\u001b[0m\u001b[0mdf_with_pubchem_descriptors\u001b[0m\u001b[0;34m.\u001b[0m\u001b[0mdrop\u001b[0m\u001b[0;34m(\u001b[0m\u001b[0mcolumns\u001b[0m\u001b[0;34m=\u001b[0m\u001b[0;34m[\u001b[0m\u001b[0;34m'gap'\u001b[0m\u001b[0;34m]\u001b[0m\u001b[0;34m)\u001b[0m\u001b[0;34m,\u001b[0m \u001b[0mdf_with_pubchem_descriptors\u001b[0m\u001b[0;34m[\u001b[0m\u001b[0;34m'gap'\u001b[0m\u001b[0;34m]\u001b[0m\u001b[0;34m)\u001b[0m\u001b[0;34m\u001b[0m\u001b[0;34m\u001b[0m\u001b[0m\n\u001b[0m\u001b[1;32m      4\u001b[0m \u001b[0mselected_feature_names_pearson\u001b[0m \u001b[0;34m=\u001b[0m \u001b[0mdf_with_pubchem_descriptors\u001b[0m\u001b[0;34m.\u001b[0m\u001b[0mdrop\u001b[0m\u001b[0;34m(\u001b[0m\u001b[0mcolumns\u001b[0m\u001b[0;34m=\u001b[0m\u001b[0;34m[\u001b[0m\u001b[0;34m'gap'\u001b[0m\u001b[0;34m]\u001b[0m\u001b[0;34m)\u001b[0m\u001b[0;34m.\u001b[0m\u001b[0mcolumns\u001b[0m\u001b[0;34m[\u001b[0m\u001b[0mselector_pearson\u001b[0m\u001b[0;34m.\u001b[0m\u001b[0mget_support\u001b[0m\u001b[0;34m(\u001b[0m\u001b[0;34m)\u001b[0m\u001b[0;34m]\u001b[0m\u001b[0;34m\u001b[0m\u001b[0;34m\u001b[0m\u001b[0m\n",
            "\u001b[0;32m/usr/local/lib/python3.10/dist-packages/sklearn/utils/_set_output.py\u001b[0m in \u001b[0;36mwrapped\u001b[0;34m(self, X, *args, **kwargs)\u001b[0m\n\u001b[1;32m    138\u001b[0m     \u001b[0;34m@\u001b[0m\u001b[0mwraps\u001b[0m\u001b[0;34m(\u001b[0m\u001b[0mf\u001b[0m\u001b[0;34m)\u001b[0m\u001b[0;34m\u001b[0m\u001b[0;34m\u001b[0m\u001b[0m\n\u001b[1;32m    139\u001b[0m     \u001b[0;32mdef\u001b[0m \u001b[0mwrapped\u001b[0m\u001b[0;34m(\u001b[0m\u001b[0mself\u001b[0m\u001b[0;34m,\u001b[0m \u001b[0mX\u001b[0m\u001b[0;34m,\u001b[0m \u001b[0;34m*\u001b[0m\u001b[0margs\u001b[0m\u001b[0;34m,\u001b[0m \u001b[0;34m**\u001b[0m\u001b[0mkwargs\u001b[0m\u001b[0;34m)\u001b[0m\u001b[0;34m:\u001b[0m\u001b[0;34m\u001b[0m\u001b[0;34m\u001b[0m\u001b[0m\n\u001b[0;32m--> 140\u001b[0;31m         \u001b[0mdata_to_wrap\u001b[0m \u001b[0;34m=\u001b[0m \u001b[0mf\u001b[0m\u001b[0;34m(\u001b[0m\u001b[0mself\u001b[0m\u001b[0;34m,\u001b[0m \u001b[0mX\u001b[0m\u001b[0;34m,\u001b[0m \u001b[0;34m*\u001b[0m\u001b[0margs\u001b[0m\u001b[0;34m,\u001b[0m \u001b[0;34m**\u001b[0m\u001b[0mkwargs\u001b[0m\u001b[0;34m)\u001b[0m\u001b[0;34m\u001b[0m\u001b[0;34m\u001b[0m\u001b[0m\n\u001b[0m\u001b[1;32m    141\u001b[0m         \u001b[0;32mif\u001b[0m \u001b[0misinstance\u001b[0m\u001b[0;34m(\u001b[0m\u001b[0mdata_to_wrap\u001b[0m\u001b[0;34m,\u001b[0m \u001b[0mtuple\u001b[0m\u001b[0;34m)\u001b[0m\u001b[0;34m:\u001b[0m\u001b[0;34m\u001b[0m\u001b[0;34m\u001b[0m\u001b[0m\n\u001b[1;32m    142\u001b[0m             \u001b[0;31m# only wrap the first output for cross decomposition\u001b[0m\u001b[0;34m\u001b[0m\u001b[0;34m\u001b[0m\u001b[0m\n",
            "\u001b[0;32m/usr/local/lib/python3.10/dist-packages/sklearn/base.py\u001b[0m in \u001b[0;36mfit_transform\u001b[0;34m(self, X, y, **fit_params)\u001b[0m\n\u001b[1;32m    879\u001b[0m         \u001b[0;32melse\u001b[0m\u001b[0;34m:\u001b[0m\u001b[0;34m\u001b[0m\u001b[0;34m\u001b[0m\u001b[0m\n\u001b[1;32m    880\u001b[0m             \u001b[0;31m# fit method of arity 2 (supervised transformation)\u001b[0m\u001b[0;34m\u001b[0m\u001b[0;34m\u001b[0m\u001b[0m\n\u001b[0;32m--> 881\u001b[0;31m             \u001b[0;32mreturn\u001b[0m \u001b[0mself\u001b[0m\u001b[0;34m.\u001b[0m\u001b[0mfit\u001b[0m\u001b[0;34m(\u001b[0m\u001b[0mX\u001b[0m\u001b[0;34m,\u001b[0m \u001b[0my\u001b[0m\u001b[0;34m,\u001b[0m \u001b[0;34m**\u001b[0m\u001b[0mfit_params\u001b[0m\u001b[0;34m)\u001b[0m\u001b[0;34m.\u001b[0m\u001b[0mtransform\u001b[0m\u001b[0;34m(\u001b[0m\u001b[0mX\u001b[0m\u001b[0;34m)\u001b[0m\u001b[0;34m\u001b[0m\u001b[0;34m\u001b[0m\u001b[0m\n\u001b[0m\u001b[1;32m    882\u001b[0m \u001b[0;34m\u001b[0m\u001b[0m\n\u001b[1;32m    883\u001b[0m \u001b[0;34m\u001b[0m\u001b[0m\n",
            "\u001b[0;32m/usr/local/lib/python3.10/dist-packages/sklearn/feature_selection/_univariate_selection.py\u001b[0m in \u001b[0;36mfit\u001b[0;34m(self, X, y)\u001b[0m\n\u001b[1;32m    465\u001b[0m         \u001b[0mself\u001b[0m\u001b[0;34m.\u001b[0m\u001b[0m_validate_params\u001b[0m\u001b[0;34m(\u001b[0m\u001b[0;34m)\u001b[0m\u001b[0;34m\u001b[0m\u001b[0;34m\u001b[0m\u001b[0m\n\u001b[1;32m    466\u001b[0m \u001b[0;34m\u001b[0m\u001b[0m\n\u001b[0;32m--> 467\u001b[0;31m         X, y = self._validate_data(\n\u001b[0m\u001b[1;32m    468\u001b[0m             \u001b[0mX\u001b[0m\u001b[0;34m,\u001b[0m \u001b[0my\u001b[0m\u001b[0;34m,\u001b[0m \u001b[0maccept_sparse\u001b[0m\u001b[0;34m=\u001b[0m\u001b[0;34m[\u001b[0m\u001b[0;34m\"csr\"\u001b[0m\u001b[0;34m,\u001b[0m \u001b[0;34m\"csc\"\u001b[0m\u001b[0;34m]\u001b[0m\u001b[0;34m,\u001b[0m \u001b[0mmulti_output\u001b[0m\u001b[0;34m=\u001b[0m\u001b[0;32mTrue\u001b[0m\u001b[0;34m\u001b[0m\u001b[0;34m\u001b[0m\u001b[0m\n\u001b[1;32m    469\u001b[0m         )\n",
            "\u001b[0;32m/usr/local/lib/python3.10/dist-packages/sklearn/base.py\u001b[0m in \u001b[0;36m_validate_data\u001b[0;34m(self, X, y, reset, validate_separately, **check_params)\u001b[0m\n\u001b[1;32m    546\u001b[0m             \u001b[0mvalidated\u001b[0m\u001b[0;34m.\u001b[0m\u001b[0;34m\u001b[0m\u001b[0;34m\u001b[0m\u001b[0m\n\u001b[1;32m    547\u001b[0m         \"\"\"\n\u001b[0;32m--> 548\u001b[0;31m         \u001b[0mself\u001b[0m\u001b[0;34m.\u001b[0m\u001b[0m_check_feature_names\u001b[0m\u001b[0;34m(\u001b[0m\u001b[0mX\u001b[0m\u001b[0;34m,\u001b[0m \u001b[0mreset\u001b[0m\u001b[0;34m=\u001b[0m\u001b[0mreset\u001b[0m\u001b[0;34m)\u001b[0m\u001b[0;34m\u001b[0m\u001b[0;34m\u001b[0m\u001b[0m\n\u001b[0m\u001b[1;32m    549\u001b[0m \u001b[0;34m\u001b[0m\u001b[0m\n\u001b[1;32m    550\u001b[0m         \u001b[0;32mif\u001b[0m \u001b[0my\u001b[0m \u001b[0;32mis\u001b[0m \u001b[0;32mNone\u001b[0m \u001b[0;32mand\u001b[0m \u001b[0mself\u001b[0m\u001b[0;34m.\u001b[0m\u001b[0m_get_tags\u001b[0m\u001b[0;34m(\u001b[0m\u001b[0;34m)\u001b[0m\u001b[0;34m[\u001b[0m\u001b[0;34m\"requires_y\"\u001b[0m\u001b[0;34m]\u001b[0m\u001b[0;34m:\u001b[0m\u001b[0;34m\u001b[0m\u001b[0;34m\u001b[0m\u001b[0m\n",
            "\u001b[0;32m/usr/local/lib/python3.10/dist-packages/sklearn/base.py\u001b[0m in \u001b[0;36m_check_feature_names\u001b[0;34m(self, X, reset)\u001b[0m\n\u001b[1;32m    413\u001b[0m \u001b[0;34m\u001b[0m\u001b[0m\n\u001b[1;32m    414\u001b[0m         \u001b[0;32mif\u001b[0m \u001b[0mreset\u001b[0m\u001b[0;34m:\u001b[0m\u001b[0;34m\u001b[0m\u001b[0;34m\u001b[0m\u001b[0m\n\u001b[0;32m--> 415\u001b[0;31m             \u001b[0mfeature_names_in\u001b[0m \u001b[0;34m=\u001b[0m \u001b[0m_get_feature_names\u001b[0m\u001b[0;34m(\u001b[0m\u001b[0mX\u001b[0m\u001b[0;34m)\u001b[0m\u001b[0;34m\u001b[0m\u001b[0;34m\u001b[0m\u001b[0m\n\u001b[0m\u001b[1;32m    416\u001b[0m             \u001b[0;32mif\u001b[0m \u001b[0mfeature_names_in\u001b[0m \u001b[0;32mis\u001b[0m \u001b[0;32mnot\u001b[0m \u001b[0;32mNone\u001b[0m\u001b[0;34m:\u001b[0m\u001b[0;34m\u001b[0m\u001b[0;34m\u001b[0m\u001b[0m\n\u001b[1;32m    417\u001b[0m                 \u001b[0mself\u001b[0m\u001b[0;34m.\u001b[0m\u001b[0mfeature_names_in_\u001b[0m \u001b[0;34m=\u001b[0m \u001b[0mfeature_names_in\u001b[0m\u001b[0;34m\u001b[0m\u001b[0;34m\u001b[0m\u001b[0m\n",
            "\u001b[0;32m/usr/local/lib/python3.10/dist-packages/sklearn/utils/validation.py\u001b[0m in \u001b[0;36m_get_feature_names\u001b[0;34m(X)\u001b[0m\n\u001b[1;32m   1901\u001b[0m     \u001b[0;31m# mixed type of string and non-string is not supported\u001b[0m\u001b[0;34m\u001b[0m\u001b[0;34m\u001b[0m\u001b[0m\n\u001b[1;32m   1902\u001b[0m     \u001b[0;32mif\u001b[0m \u001b[0mlen\u001b[0m\u001b[0;34m(\u001b[0m\u001b[0mtypes\u001b[0m\u001b[0;34m)\u001b[0m \u001b[0;34m>\u001b[0m \u001b[0;36m1\u001b[0m \u001b[0;32mand\u001b[0m \u001b[0;34m\"str\"\u001b[0m \u001b[0;32min\u001b[0m \u001b[0mtypes\u001b[0m\u001b[0;34m:\u001b[0m\u001b[0;34m\u001b[0m\u001b[0;34m\u001b[0m\u001b[0m\n\u001b[0;32m-> 1903\u001b[0;31m         raise TypeError(\n\u001b[0m\u001b[1;32m   1904\u001b[0m             \u001b[0;34m\"Feature names are only supported if all input features have string names, \"\u001b[0m\u001b[0;34m\u001b[0m\u001b[0;34m\u001b[0m\u001b[0m\n\u001b[1;32m   1905\u001b[0m             \u001b[0;34mf\"but your input has {types} as feature name / column name types. \"\u001b[0m\u001b[0;34m\u001b[0m\u001b[0;34m\u001b[0m\u001b[0m\n",
            "\u001b[0;31mTypeError\u001b[0m: Feature names are only supported if all input features have string names, but your input has ['int', 'str'] as feature name / column name types. If you want feature names to be stored and validated, you must convert them all to strings, by using X.columns = X.columns.astype(str) for example. Otherwise you can remove feature / column names from your input data, or convert them all to a non-string data type."
          ]
        }
      ]
    },
    {
      "cell_type": "code",
      "source": [
        "# Метод отбора на основе корреляции Пирсона\n",
        "selector_pearson = SelectKBest(score_func=f_regression, k=500)"
      ],
      "metadata": {
        "id": "qhVLKolNnlW0"
      },
      "execution_count": 37,
      "outputs": []
    },
    {
      "cell_type": "code",
      "source": [
        "# Преобразование имен столбцов в строковый тип данных\n",
        "df_with_pubchem_descriptors.columns = df_with_pubchem_descriptors.columns.astype(str)"
      ],
      "metadata": {
        "id": "lZkexupLqJmx"
      },
      "execution_count": 36,
      "outputs": []
    },
    {
      "cell_type": "code",
      "source": [
        "print(df_with_pubchem_descriptors.dtypes.unique())"
      ],
      "metadata": {
        "colab": {
          "base_uri": "https://localhost:8080/"
        },
        "id": "Bkr9kKisqggq",
        "outputId": "2175d52c-1215-4afc-f716-dfbd77e2d58b"
      },
      "execution_count": 40,
      "outputs": [
        {
          "output_type": "stream",
          "name": "stdout",
          "text": [
            "[dtype('O') dtype('float64') dtype('int64') dtype('bool')]\n"
          ]
        }
      ]
    },
    {
      "cell_type": "code",
      "source": [
        "# Удаление столбцов с типом данных 'O' (строковых столбцов)\n",
        "df_with_pubchem_descriptors_numeric = df_with_pubchem_descriptors.select_dtypes(exclude=['object'])"
      ],
      "metadata": {
        "id": "O_crfzreqn16"
      },
      "execution_count": 43,
      "outputs": []
    },
    {
      "cell_type": "code",
      "source": [
        "# Удаление столбца 'gap'\n",
        "df_with_pubchem_descriptors_numeric.drop(columns=['gap'], inplace=True)\n"
      ],
      "metadata": {
        "id": "ddsoHuQkq27x"
      },
      "execution_count": 44,
      "outputs": []
    },
    {
      "cell_type": "code",
      "source": [
        "# Применение метода отбора признаков на основе корреляции Пирсона\n",
        "selected_features_pearson = selector_pearson.fit_transform(df_with_pubchem_descriptors_numeric, df_with_pubchem_descriptors['gap'])\n",
        "selected_feature_names_pearson = df_with_pubchem_descriptors_numeric.columns[selector_pearson.get_support()]"
      ],
      "metadata": {
        "id": "qyauKljQp0rj"
      },
      "execution_count": 46,
      "outputs": []
    },
    {
      "cell_type": "code",
      "source": [
        "gap_counts = df['gap'].value_counts(normalize=False)\n",
        "print(gap_counts)"
      ],
      "metadata": {
        "colab": {
          "base_uri": "https://localhost:8080/"
        },
        "id": "eUgqYmuVPxZc",
        "outputId": "91b3aa56-3c2f-4103-947a-2b8857658516"
      },
      "execution_count": 47,
      "outputs": [
        {
          "output_type": "stream",
          "name": "stdout",
          "text": [
            "gap\n",
            "0.3063    2\n",
            "0.1953    2\n",
            "0.2680    2\n",
            "0.1880    1\n",
            "0.2593    1\n",
            "         ..\n",
            "0.2244    1\n",
            "0.2831    1\n",
            "0.1930    1\n",
            "0.1979    1\n",
            "0.2048    1\n",
            "Name: count, Length: 97, dtype: int64\n"
          ]
        }
      ]
    },
    {
      "cell_type": "code",
      "source": [
        "# Применение метода отбора признаков на основе взаимной информации\n",
        "selector_mutual_info = SelectKBest(score_func=mutual_info_regression, k=500)"
      ],
      "metadata": {
        "id": "uACqPaMEryKS"
      },
      "execution_count": 50,
      "outputs": []
    },
    {
      "cell_type": "code",
      "source": [
        "# Удаление столбцов с типом данных 'O' (строковых столбцов)\n",
        "df_with_pubchem_descriptors_numeric = df_with_pubchem_descriptors.select_dtypes(exclude=['object'])\n"
      ],
      "metadata": {
        "id": "W8-yt5AMsG4q"
      },
      "execution_count": 52,
      "outputs": []
    },
    {
      "cell_type": "code",
      "source": [
        "# Удаление столбцов 'gap' и столбца с идентификаторами молекул\n",
        "df_with_pubchem_descriptors_numeric.drop(columns=['gap'], inplace=True)"
      ],
      "metadata": {
        "id": "K1okpeLDsKUJ"
      },
      "execution_count": 53,
      "outputs": []
    },
    {
      "cell_type": "code",
      "source": [
        "# Применение метода отбора признаков на основе взаимной информации\n",
        "selected_features_mutual_info = selector_mutual_info.fit_transform(df_with_pubchem_descriptors_numeric, df_with_pubchem_descriptors['gap'])\n",
        "selected_feature_names_mutual_info = df_with_pubchem_descriptors_numeric.columns[selector_mutual_info.get_support()]"
      ],
      "metadata": {
        "id": "JxvIfs1ur45C"
      },
      "execution_count": 55,
      "outputs": []
    },
    {
      "cell_type": "code",
      "source": [
        "# Создание DataFrame с выбранными признаками и таргетом gap для корреляции Пирсона\n",
        "selected_features_df_pearson = pd.DataFrame(selected_features_pearson, columns=selected_feature_names_pearson)\n",
        "selected_features_df_pearson['gap'] = df_with_pubchem_descriptors['gap']"
      ],
      "metadata": {
        "id": "bWOss7XksjBS"
      },
      "execution_count": 57,
      "outputs": []
    },
    {
      "cell_type": "code",
      "source": [
        "# Создание DataFrame с выбранными признаками и таргетом gap для взаимной информации\n",
        "selected_features_df_mutual_info = pd.DataFrame(selected_features_mutual_info, columns=selected_feature_names_mutual_info)\n",
        "selected_features_df_mutual_info['gap'] = df_with_pubchem_descriptors['gap']"
      ],
      "metadata": {
        "id": "jwzuYCu-s6AZ"
      },
      "execution_count": 58,
      "outputs": []
    },
    {
      "cell_type": "code",
      "source": [
        "# Сохранение датасетов с выбранными признаками\n",
        "selected_features_df_pearson.to_csv('selected_features_pearson.csv', index=False)\n",
        "selected_features_df_mutual_info.to_csv('selected_features_mutual_info.csv', index=False)"
      ],
      "metadata": {
        "id": "mv8jnqzjs9Np"
      },
      "execution_count": 59,
      "outputs": []
    },
    {
      "cell_type": "code",
      "source": [
        "# # Добавление таргет параметра \"gap\" в DataFrame с дескрипторами\n",
        "# df_descriptors['gap'] = target_gap"
      ],
      "metadata": {
        "id": "VodFDmF4cUfT"
      },
      "execution_count": null,
      "outputs": []
    },
    {
      "cell_type": "code",
      "source": [
        "# # Удаление ненужных столбцов\n",
        "# df_descriptors.drop(columns=['smiles'], inplace=True)"
      ],
      "metadata": {
        "id": "8OW1XlL5eboa"
      },
      "execution_count": null,
      "outputs": []
    },
    {
      "cell_type": "code",
      "source": [
        "# Объединение выбранных признаков от метода отбора признаков на основе корреляции Пирсона и взаимной информации\n",
        "selected_features_combined = pd.concat([selected_features_df_pearson, selected_features_df_mutual_info], axis=1)"
      ],
      "metadata": {
        "id": "APTRtWb9QZKS"
      },
      "execution_count": 60,
      "outputs": []
    },
    {
      "cell_type": "code",
      "source": [
        "# Сохранение объединенного датасета с выбранными признаками\n",
        "selected_features_combined.to_csv('fs_combine.csv', index=False)"
      ],
      "metadata": {
        "id": "XqW1a68Mt1SS"
      },
      "execution_count": 62,
      "outputs": []
    }
  ]
}